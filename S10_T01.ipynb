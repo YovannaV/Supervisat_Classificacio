{
 "cells": [
  {
   "cell_type": "markdown",
   "id": "6c5632d7",
   "metadata": {},
   "source": [
    "# S10 T01: Aprendizaje Supervisado - Clasificaciòn\n",
    "___\n",
    "**Descripción**\n",
    "Vamos a practicar ya familiarizarnos con algoritmos de clasificación .\n",
    "___\n",
    "**Objetivos**\n",
    "- Árboles de clasificación\n",
    "- KNN - k-Nearest Neighbors\n",
    "- Regresión Logística\n",
    "- Support Vector Machine\n",
    "- XGboost"
   ]
  },
  {
   "cell_type": "code",
   "execution_count": 1,
   "id": "a2f62f23",
   "metadata": {},
   "outputs": [],
   "source": [
    "#load libreries\n",
    "import pandas as pd\n",
    "import numpy as np\n",
    "import matplotlib.pyplot as plt\n",
    "import seaborn as sns\n",
    "import statsmodels.api as sm\n",
    "from statsmodels.stats.outliers_influence import variance_inflation_factor \n",
    "from math import sqrt\n",
    "import category_encoders as ce\n",
    "from category_encoders import TargetEncoder\n",
    "from sklearn.preprocessing import StandardScaler\n",
    "from sklearn.tree import DecisionTreeClassifier\n",
    "from sklearn.model_selection import train_test_split \n",
    "from sklearn import metrics \n",
    "import xgboost as xgb\n",
    "from sklearn.metrics import mean_squared_error\n",
    "from sklearn.metrics import classification_report, confusion_matrix\n",
    "from sklearn.metrics import plot_roc_curve\n",
    "from sklearn.metrics import roc_curve\n",
    "from sklearn.metrics import roc_auc_score\n",
    "from sklearn.neighbors import KNeighborsClassifier\n",
    "import imblearn\n",
    "from collections import Counter\n",
    "from imblearn.over_sampling import SMOTE\n",
    "from numpy import where\n",
    "from sklearn.model_selection import RepeatedStratifiedKFold\n",
    "from sklearn.model_selection import cross_val_score\n",
    "from sklearn.model_selection import KFold"
   ]
  },
  {
   "cell_type": "markdown",
   "id": "1e9b3c46",
   "metadata": {},
   "source": [
    "Definicion de funciones:"
   ]
  },
  {
   "cell_type": "code",
   "execution_count": 17,
   "id": "87ab866b",
   "metadata": {},
   "outputs": [],
   "source": [
    "# Metrics\n",
    "def metrics_models(y_test, y_pred, model_name):\n",
    "    \n",
    "    # Confusion Matrix\n",
    "    confusion_matrix_single = metrics.confusion_matrix(y_test, y_pred)\n",
    "\n",
    "    # DataFrame\n",
    "    confusion_matrix_df = pd.DataFrame(confusion_matrix_single)\n",
    "\n",
    "    # Plot matrix in heatmap\n",
    "    fig, ax = plt.subplots(figsize = (10,5))\n",
    "    sns.heatmap(pd.DataFrame(confusion_matrix_df), annot=True, fmt='d' ,annot_kws={'size': 12}, cmap = 'YlGnBu') \n",
    "    plt.ylabel('Actual', fontsize = 12); \n",
    "    plt.xlabel('Predicted', fontsize =12); \n",
    "    plt.suptitle(t= 'CONFUSION MATRIX',fontsize =16, fontweight = 'bold'); \n",
    "    plt.title(model_name, loc= 'left',fontsize = 14);plt.show()\n",
    "    \n",
    "    # Metrics\n",
    "    Accuracy = round(metrics.accuracy_score(y_test, y_pred),2)\n",
    "    Precision = round(metrics.precision_score(y_test, y_pred),2)\n",
    "    Recall = round(metrics.recall_score(y_test, y_pred),2)\n",
    "    F1 = round(metrics.f1_score(y_test, y_pred),2)\n",
    "    \n",
    "\n",
    "    confusion_matrix_metrics = pd.DataFrame([{'Accuracy: ': Accuracy, 'Precision: ': Precision,\n",
    "    'Recall: ': Recall , 'F1: ': F1 }], index=[model_name])\n",
    "\n",
    "    print(confusion_matrix_metrics)\n",
    "    return confusion_matrix_metrics"
   ]
  },
  {
   "cell_type": "markdown",
   "id": "8a8d30ff",
   "metadata": {},
   "source": [
    "Primeros pasos:\n",
    "- 1. Cargar base de datos (se carga la base de datos previamente procesada)"
   ]
  },
  {
   "cell_type": "code",
   "execution_count": 2,
   "id": "78699e2a",
   "metadata": {},
   "outputs": [],
   "source": [
    "#import te clean dataset \n",
    "data = pd.read_csv('df_clean_dbdelay.csv')"
   ]
  },
  {
   "cell_type": "markdown",
   "id": "d401c6c7",
   "metadata": {},
   "source": [
    "- 2. Overview de la base de datos\n"
   ]
  },
  {
   "cell_type": "code",
   "execution_count": 3,
   "id": "eff3929b",
   "metadata": {},
   "outputs": [
    {
     "data": {
      "text/plain": [
       "(1928371, 17)"
      ]
     },
     "execution_count": 3,
     "metadata": {},
     "output_type": "execute_result"
    }
   ],
   "source": [
    "data.shape"
   ]
  },
  {
   "cell_type": "code",
   "execution_count": 4,
   "id": "db1b8f74",
   "metadata": {},
   "outputs": [
    {
     "data": {
      "text/html": [
       "<div>\n",
       "<style scoped>\n",
       "    .dataframe tbody tr th:only-of-type {\n",
       "        vertical-align: middle;\n",
       "    }\n",
       "\n",
       "    .dataframe tbody tr th {\n",
       "        vertical-align: top;\n",
       "    }\n",
       "\n",
       "    .dataframe thead th {\n",
       "        text-align: right;\n",
       "    }\n",
       "</style>\n",
       "<table border=\"1\" class=\"dataframe\">\n",
       "  <thead>\n",
       "    <tr style=\"text-align: right;\">\n",
       "      <th></th>\n",
       "      <th>Unnamed: 0</th>\n",
       "      <th>DayOfWeek</th>\n",
       "      <th>DepTime</th>\n",
       "      <th>CRSDepTime</th>\n",
       "      <th>ArrTime</th>\n",
       "      <th>CRSArrTime</th>\n",
       "      <th>UniqueCarrier</th>\n",
       "      <th>FlightNum</th>\n",
       "      <th>ActualElapsedTime</th>\n",
       "      <th>CRSElapsedTime</th>\n",
       "      <th>AirTime</th>\n",
       "      <th>ArrDelay</th>\n",
       "      <th>DepDelay</th>\n",
       "      <th>Origin</th>\n",
       "      <th>Dest</th>\n",
       "      <th>Distance</th>\n",
       "      <th>Date</th>\n",
       "    </tr>\n",
       "  </thead>\n",
       "  <tbody>\n",
       "    <tr>\n",
       "      <th>0</th>\n",
       "      <td>0</td>\n",
       "      <td>4</td>\n",
       "      <td>2003</td>\n",
       "      <td>1955</td>\n",
       "      <td>2211</td>\n",
       "      <td>2225</td>\n",
       "      <td>WN</td>\n",
       "      <td>335</td>\n",
       "      <td>128</td>\n",
       "      <td>150</td>\n",
       "      <td>116</td>\n",
       "      <td>-14</td>\n",
       "      <td>8</td>\n",
       "      <td>IAD</td>\n",
       "      <td>TPA</td>\n",
       "      <td>810</td>\n",
       "      <td>2008-01-03</td>\n",
       "    </tr>\n",
       "    <tr>\n",
       "      <th>1</th>\n",
       "      <td>1</td>\n",
       "      <td>4</td>\n",
       "      <td>754</td>\n",
       "      <td>735</td>\n",
       "      <td>1002</td>\n",
       "      <td>1000</td>\n",
       "      <td>WN</td>\n",
       "      <td>3231</td>\n",
       "      <td>128</td>\n",
       "      <td>145</td>\n",
       "      <td>113</td>\n",
       "      <td>2</td>\n",
       "      <td>19</td>\n",
       "      <td>IAD</td>\n",
       "      <td>TPA</td>\n",
       "      <td>810</td>\n",
       "      <td>2008-01-03</td>\n",
       "    </tr>\n",
       "    <tr>\n",
       "      <th>2</th>\n",
       "      <td>2</td>\n",
       "      <td>4</td>\n",
       "      <td>628</td>\n",
       "      <td>620</td>\n",
       "      <td>804</td>\n",
       "      <td>750</td>\n",
       "      <td>WN</td>\n",
       "      <td>448</td>\n",
       "      <td>96</td>\n",
       "      <td>90</td>\n",
       "      <td>76</td>\n",
       "      <td>14</td>\n",
       "      <td>8</td>\n",
       "      <td>IND</td>\n",
       "      <td>BWI</td>\n",
       "      <td>515</td>\n",
       "      <td>2008-01-03</td>\n",
       "    </tr>\n",
       "    <tr>\n",
       "      <th>3</th>\n",
       "      <td>3</td>\n",
       "      <td>4</td>\n",
       "      <td>1829</td>\n",
       "      <td>1755</td>\n",
       "      <td>1959</td>\n",
       "      <td>1925</td>\n",
       "      <td>WN</td>\n",
       "      <td>3920</td>\n",
       "      <td>90</td>\n",
       "      <td>90</td>\n",
       "      <td>77</td>\n",
       "      <td>34</td>\n",
       "      <td>34</td>\n",
       "      <td>IND</td>\n",
       "      <td>BWI</td>\n",
       "      <td>515</td>\n",
       "      <td>2008-01-03</td>\n",
       "    </tr>\n",
       "    <tr>\n",
       "      <th>4</th>\n",
       "      <td>4</td>\n",
       "      <td>4</td>\n",
       "      <td>1940</td>\n",
       "      <td>1915</td>\n",
       "      <td>2121</td>\n",
       "      <td>2110</td>\n",
       "      <td>WN</td>\n",
       "      <td>378</td>\n",
       "      <td>101</td>\n",
       "      <td>115</td>\n",
       "      <td>87</td>\n",
       "      <td>11</td>\n",
       "      <td>25</td>\n",
       "      <td>IND</td>\n",
       "      <td>JAX</td>\n",
       "      <td>688</td>\n",
       "      <td>2008-01-03</td>\n",
       "    </tr>\n",
       "  </tbody>\n",
       "</table>\n",
       "</div>"
      ],
      "text/plain": [
       "   Unnamed: 0  DayOfWeek  DepTime  CRSDepTime  ArrTime  CRSArrTime  \\\n",
       "0           0          4     2003        1955     2211        2225   \n",
       "1           1          4      754         735     1002        1000   \n",
       "2           2          4      628         620      804         750   \n",
       "3           3          4     1829        1755     1959        1925   \n",
       "4           4          4     1940        1915     2121        2110   \n",
       "\n",
       "  UniqueCarrier  FlightNum  ActualElapsedTime  CRSElapsedTime  AirTime  \\\n",
       "0            WN        335                128             150      116   \n",
       "1            WN       3231                128             145      113   \n",
       "2            WN        448                 96              90       76   \n",
       "3            WN       3920                 90              90       77   \n",
       "4            WN        378                101             115       87   \n",
       "\n",
       "   ArrDelay  DepDelay Origin Dest  Distance        Date  \n",
       "0       -14         8    IAD  TPA       810  2008-01-03  \n",
       "1         2        19    IAD  TPA       810  2008-01-03  \n",
       "2        14         8    IND  BWI       515  2008-01-03  \n",
       "3        34        34    IND  BWI       515  2008-01-03  \n",
       "4        11        25    IND  JAX       688  2008-01-03  "
      ]
     },
     "execution_count": 4,
     "metadata": {},
     "output_type": "execute_result"
    }
   ],
   "source": [
    "data.head()"
   ]
  },
  {
   "cell_type": "code",
   "execution_count": 5,
   "id": "88f332a2",
   "metadata": {},
   "outputs": [
    {
     "name": "stdout",
     "output_type": "stream",
     "text": [
      "<class 'pandas.core.frame.DataFrame'>\n",
      "RangeIndex: 1928371 entries, 0 to 1928370\n",
      "Data columns (total 17 columns):\n",
      " #   Column             Dtype \n",
      "---  ------             ----- \n",
      " 0   Unnamed: 0         int64 \n",
      " 1   DayOfWeek          int64 \n",
      " 2   DepTime            int64 \n",
      " 3   CRSDepTime         int64 \n",
      " 4   ArrTime            int64 \n",
      " 5   CRSArrTime         int64 \n",
      " 6   UniqueCarrier      object\n",
      " 7   FlightNum          int64 \n",
      " 8   ActualElapsedTime  int64 \n",
      " 9   CRSElapsedTime     int64 \n",
      " 10  AirTime            int64 \n",
      " 11  ArrDelay           int64 \n",
      " 12  DepDelay           int64 \n",
      " 13  Origin             object\n",
      " 14  Dest               object\n",
      " 15  Distance           int64 \n",
      " 16  Date               object\n",
      "dtypes: int64(13), object(4)\n",
      "memory usage: 250.1+ MB\n"
     ]
    }
   ],
   "source": [
    "data.info()"
   ]
  },
  {
   "cell_type": "code",
   "execution_count": 6,
   "id": "21bd7bf8",
   "metadata": {},
   "outputs": [
    {
     "data": {
      "text/html": [
       "<div>\n",
       "<style scoped>\n",
       "    .dataframe tbody tr th:only-of-type {\n",
       "        vertical-align: middle;\n",
       "    }\n",
       "\n",
       "    .dataframe tbody tr th {\n",
       "        vertical-align: top;\n",
       "    }\n",
       "\n",
       "    .dataframe thead th {\n",
       "        text-align: right;\n",
       "    }\n",
       "</style>\n",
       "<table border=\"1\" class=\"dataframe\">\n",
       "  <thead>\n",
       "    <tr style=\"text-align: right;\">\n",
       "      <th></th>\n",
       "      <th>count</th>\n",
       "      <th>mean</th>\n",
       "      <th>std</th>\n",
       "      <th>min</th>\n",
       "      <th>25%</th>\n",
       "      <th>50%</th>\n",
       "      <th>75%</th>\n",
       "      <th>max</th>\n",
       "    </tr>\n",
       "  </thead>\n",
       "  <tbody>\n",
       "    <tr>\n",
       "      <th>Unnamed: 0</th>\n",
       "      <td>1928371.0</td>\n",
       "      <td>967883.210651</td>\n",
       "      <td>558868.992129</td>\n",
       "      <td>0.0</td>\n",
       "      <td>483955.5</td>\n",
       "      <td>967654.0</td>\n",
       "      <td>1451881.5</td>\n",
       "      <td>1936757.0</td>\n",
       "    </tr>\n",
       "    <tr>\n",
       "      <th>DayOfWeek</th>\n",
       "      <td>1928371.0</td>\n",
       "      <td>3.984999</td>\n",
       "      <td>1.996050</td>\n",
       "      <td>1.0</td>\n",
       "      <td>2.0</td>\n",
       "      <td>4.0</td>\n",
       "      <td>6.0</td>\n",
       "      <td>7.0</td>\n",
       "    </tr>\n",
       "    <tr>\n",
       "      <th>DepTime</th>\n",
       "      <td>1928371.0</td>\n",
       "      <td>1518.647818</td>\n",
       "      <td>450.435200</td>\n",
       "      <td>1.0</td>\n",
       "      <td>1203.0</td>\n",
       "      <td>1545.0</td>\n",
       "      <td>1900.0</td>\n",
       "      <td>2400.0</td>\n",
       "    </tr>\n",
       "    <tr>\n",
       "      <th>CRSDepTime</th>\n",
       "      <td>1928371.0</td>\n",
       "      <td>1467.717509</td>\n",
       "      <td>424.728051</td>\n",
       "      <td>0.0</td>\n",
       "      <td>1135.0</td>\n",
       "      <td>1510.0</td>\n",
       "      <td>1815.0</td>\n",
       "      <td>2359.0</td>\n",
       "    </tr>\n",
       "    <tr>\n",
       "      <th>ArrTime</th>\n",
       "      <td>1928371.0</td>\n",
       "      <td>1610.242251</td>\n",
       "      <td>548.000926</td>\n",
       "      <td>1.0</td>\n",
       "      <td>1316.0</td>\n",
       "      <td>1715.0</td>\n",
       "      <td>2030.0</td>\n",
       "      <td>2400.0</td>\n",
       "    </tr>\n",
       "    <tr>\n",
       "      <th>CRSArrTime</th>\n",
       "      <td>1928371.0</td>\n",
       "      <td>1634.196234</td>\n",
       "      <td>464.628444</td>\n",
       "      <td>0.0</td>\n",
       "      <td>1325.0</td>\n",
       "      <td>1705.0</td>\n",
       "      <td>2014.0</td>\n",
       "      <td>2359.0</td>\n",
       "    </tr>\n",
       "    <tr>\n",
       "      <th>FlightNum</th>\n",
       "      <td>1928371.0</td>\n",
       "      <td>2184.296091</td>\n",
       "      <td>1944.449506</td>\n",
       "      <td>1.0</td>\n",
       "      <td>611.0</td>\n",
       "      <td>1543.0</td>\n",
       "      <td>3423.0</td>\n",
       "      <td>9741.0</td>\n",
       "    </tr>\n",
       "    <tr>\n",
       "      <th>ActualElapsedTime</th>\n",
       "      <td>1928371.0</td>\n",
       "      <td>133.305863</td>\n",
       "      <td>72.060069</td>\n",
       "      <td>14.0</td>\n",
       "      <td>80.0</td>\n",
       "      <td>116.0</td>\n",
       "      <td>165.0</td>\n",
       "      <td>1114.0</td>\n",
       "    </tr>\n",
       "    <tr>\n",
       "      <th>CRSElapsedTime</th>\n",
       "      <td>1928371.0</td>\n",
       "      <td>134.197674</td>\n",
       "      <td>71.233388</td>\n",
       "      <td>-21.0</td>\n",
       "      <td>82.0</td>\n",
       "      <td>116.0</td>\n",
       "      <td>165.0</td>\n",
       "      <td>660.0</td>\n",
       "    </tr>\n",
       "    <tr>\n",
       "      <th>AirTime</th>\n",
       "      <td>1928371.0</td>\n",
       "      <td>108.277147</td>\n",
       "      <td>68.642610</td>\n",
       "      <td>0.0</td>\n",
       "      <td>58.0</td>\n",
       "      <td>90.0</td>\n",
       "      <td>137.0</td>\n",
       "      <td>1091.0</td>\n",
       "    </tr>\n",
       "    <tr>\n",
       "      <th>ArrDelay</th>\n",
       "      <td>1928371.0</td>\n",
       "      <td>42.199885</td>\n",
       "      <td>56.784715</td>\n",
       "      <td>-109.0</td>\n",
       "      <td>9.0</td>\n",
       "      <td>24.0</td>\n",
       "      <td>56.0</td>\n",
       "      <td>2461.0</td>\n",
       "    </tr>\n",
       "    <tr>\n",
       "      <th>DepDelay</th>\n",
       "      <td>1928371.0</td>\n",
       "      <td>43.091693</td>\n",
       "      <td>53.266001</td>\n",
       "      <td>6.0</td>\n",
       "      <td>12.0</td>\n",
       "      <td>24.0</td>\n",
       "      <td>53.0</td>\n",
       "      <td>2467.0</td>\n",
       "    </tr>\n",
       "    <tr>\n",
       "      <th>Distance</th>\n",
       "      <td>1928371.0</td>\n",
       "      <td>764.948596</td>\n",
       "      <td>573.885769</td>\n",
       "      <td>11.0</td>\n",
       "      <td>338.0</td>\n",
       "      <td>606.0</td>\n",
       "      <td>997.0</td>\n",
       "      <td>4962.0</td>\n",
       "    </tr>\n",
       "  </tbody>\n",
       "</table>\n",
       "</div>"
      ],
      "text/plain": [
       "                       count           mean            std    min       25%  \\\n",
       "Unnamed: 0         1928371.0  967883.210651  558868.992129    0.0  483955.5   \n",
       "DayOfWeek          1928371.0       3.984999       1.996050    1.0       2.0   \n",
       "DepTime            1928371.0    1518.647818     450.435200    1.0    1203.0   \n",
       "CRSDepTime         1928371.0    1467.717509     424.728051    0.0    1135.0   \n",
       "ArrTime            1928371.0    1610.242251     548.000926    1.0    1316.0   \n",
       "CRSArrTime         1928371.0    1634.196234     464.628444    0.0    1325.0   \n",
       "FlightNum          1928371.0    2184.296091    1944.449506    1.0     611.0   \n",
       "ActualElapsedTime  1928371.0     133.305863      72.060069   14.0      80.0   \n",
       "CRSElapsedTime     1928371.0     134.197674      71.233388  -21.0      82.0   \n",
       "AirTime            1928371.0     108.277147      68.642610    0.0      58.0   \n",
       "ArrDelay           1928371.0      42.199885      56.784715 -109.0       9.0   \n",
       "DepDelay           1928371.0      43.091693      53.266001    6.0      12.0   \n",
       "Distance           1928371.0     764.948596     573.885769   11.0     338.0   \n",
       "\n",
       "                        50%        75%        max  \n",
       "Unnamed: 0         967654.0  1451881.5  1936757.0  \n",
       "DayOfWeek               4.0        6.0        7.0  \n",
       "DepTime              1545.0     1900.0     2400.0  \n",
       "CRSDepTime           1510.0     1815.0     2359.0  \n",
       "ArrTime              1715.0     2030.0     2400.0  \n",
       "CRSArrTime           1705.0     2014.0     2359.0  \n",
       "FlightNum            1543.0     3423.0     9741.0  \n",
       "ActualElapsedTime     116.0      165.0     1114.0  \n",
       "CRSElapsedTime        116.0      165.0      660.0  \n",
       "AirTime                90.0      137.0     1091.0  \n",
       "ArrDelay               24.0       56.0     2461.0  \n",
       "DepDelay               24.0       53.0     2467.0  \n",
       "Distance              606.0      997.0     4962.0  "
      ]
     },
     "execution_count": 6,
     "metadata": {},
     "output_type": "execute_result"
    }
   ],
   "source": [
    "data.describe().transpose()"
   ]
  },
  {
   "cell_type": "markdown",
   "id": "a678693b",
   "metadata": {},
   "source": [
    "- 3. Limpieza de datos"
   ]
  },
  {
   "cell_type": "code",
   "execution_count": 7,
   "id": "d9b3a2da",
   "metadata": {
    "scrolled": false
   },
   "outputs": [
    {
     "data": {
      "text/plain": [
       "Unnamed: 0           0.0\n",
       "DayOfWeek            0.0\n",
       "DepTime              0.0\n",
       "CRSDepTime           0.0\n",
       "ArrTime              0.0\n",
       "CRSArrTime           0.0\n",
       "UniqueCarrier        0.0\n",
       "FlightNum            0.0\n",
       "ActualElapsedTime    0.0\n",
       "CRSElapsedTime       0.0\n",
       "AirTime              0.0\n",
       "ArrDelay             0.0\n",
       "DepDelay             0.0\n",
       "Origin               0.0\n",
       "Dest                 0.0\n",
       "Distance             0.0\n",
       "Date                 0.0\n",
       "dtype: float64"
      ]
     },
     "execution_count": 7,
     "metadata": {},
     "output_type": "execute_result"
    }
   ],
   "source": [
    "round(data[:].isnull().sum() * 100 / data.shape[0], 2)"
   ]
  },
  {
   "cell_type": "code",
   "execution_count": 3,
   "id": "b26eb7e7",
   "metadata": {},
   "outputs": [],
   "source": [
    "#remove unimportant columns\n",
    "data = data.drop(['Unnamed: 0'], axis = 1)"
   ]
  },
  {
   "cell_type": "markdown",
   "id": "ce862b05",
   "metadata": {},
   "source": [
    "Modificacion del dtype de las variables:"
   ]
  },
  {
   "cell_type": "code",
   "execution_count": 4,
   "id": "545d04d5",
   "metadata": {},
   "outputs": [],
   "source": [
    "#data type object to categoric variables\n",
    "data[['UniqueCarrier','Origin','Dest']] = data[['UniqueCarrier','Origin','Dest']].astype('category')"
   ]
  },
  {
   "cell_type": "code",
   "execution_count": 5,
   "id": "c9b07480",
   "metadata": {
    "tags": []
   },
   "outputs": [],
   "source": [
    "data['Date'] = pd.to_datetime(data['Date'])"
   ]
  },
  {
   "cell_type": "code",
   "execution_count": 6,
   "id": "7066e661",
   "metadata": {},
   "outputs": [],
   "source": [
    "#data float to int\n",
    "data[[\"ActualElapsedTime\",\"CRSElapsedTime\",\"AirTime\",'ArrDelay','DepDelay','CRSDepTime','DepTime','CRSArrTime','ArrTime']] = data[[\"ActualElapsedTime\",\"CRSElapsedTime\",\"AirTime\",'ArrDelay','DepDelay','CRSDepTime','DepTime','CRSArrTime','ArrTime']].astype('int64')"
   ]
  },
  {
   "cell_type": "code",
   "execution_count": 7,
   "id": "384c7f64",
   "metadata": {
    "scrolled": true
   },
   "outputs": [
    {
     "data": {
      "text/html": [
       "<div>\n",
       "<style scoped>\n",
       "    .dataframe tbody tr th:only-of-type {\n",
       "        vertical-align: middle;\n",
       "    }\n",
       "\n",
       "    .dataframe tbody tr th {\n",
       "        vertical-align: top;\n",
       "    }\n",
       "\n",
       "    .dataframe thead th {\n",
       "        text-align: right;\n",
       "    }\n",
       "</style>\n",
       "<table border=\"1\" class=\"dataframe\">\n",
       "  <thead>\n",
       "    <tr style=\"text-align: right;\">\n",
       "      <th></th>\n",
       "      <th>DayOfWeek</th>\n",
       "      <th>DepTime</th>\n",
       "      <th>CRSDepTime</th>\n",
       "      <th>ArrTime</th>\n",
       "      <th>CRSArrTime</th>\n",
       "      <th>UniqueCarrier</th>\n",
       "      <th>FlightNum</th>\n",
       "      <th>ActualElapsedTime</th>\n",
       "      <th>CRSElapsedTime</th>\n",
       "      <th>AirTime</th>\n",
       "      <th>ArrDelay</th>\n",
       "      <th>DepDelay</th>\n",
       "      <th>Origin</th>\n",
       "      <th>Dest</th>\n",
       "      <th>Distance</th>\n",
       "      <th>Date</th>\n",
       "    </tr>\n",
       "  </thead>\n",
       "  <tbody>\n",
       "    <tr>\n",
       "      <th>0</th>\n",
       "      <td>4</td>\n",
       "      <td>2003</td>\n",
       "      <td>1955</td>\n",
       "      <td>2211</td>\n",
       "      <td>2225</td>\n",
       "      <td>WN</td>\n",
       "      <td>335</td>\n",
       "      <td>128</td>\n",
       "      <td>150</td>\n",
       "      <td>116</td>\n",
       "      <td>-14</td>\n",
       "      <td>8</td>\n",
       "      <td>IAD</td>\n",
       "      <td>TPA</td>\n",
       "      <td>810</td>\n",
       "      <td>2008-01-03</td>\n",
       "    </tr>\n",
       "    <tr>\n",
       "      <th>1</th>\n",
       "      <td>4</td>\n",
       "      <td>754</td>\n",
       "      <td>735</td>\n",
       "      <td>1002</td>\n",
       "      <td>1000</td>\n",
       "      <td>WN</td>\n",
       "      <td>3231</td>\n",
       "      <td>128</td>\n",
       "      <td>145</td>\n",
       "      <td>113</td>\n",
       "      <td>2</td>\n",
       "      <td>19</td>\n",
       "      <td>IAD</td>\n",
       "      <td>TPA</td>\n",
       "      <td>810</td>\n",
       "      <td>2008-01-03</td>\n",
       "    </tr>\n",
       "    <tr>\n",
       "      <th>2</th>\n",
       "      <td>4</td>\n",
       "      <td>628</td>\n",
       "      <td>620</td>\n",
       "      <td>804</td>\n",
       "      <td>750</td>\n",
       "      <td>WN</td>\n",
       "      <td>448</td>\n",
       "      <td>96</td>\n",
       "      <td>90</td>\n",
       "      <td>76</td>\n",
       "      <td>14</td>\n",
       "      <td>8</td>\n",
       "      <td>IND</td>\n",
       "      <td>BWI</td>\n",
       "      <td>515</td>\n",
       "      <td>2008-01-03</td>\n",
       "    </tr>\n",
       "    <tr>\n",
       "      <th>3</th>\n",
       "      <td>4</td>\n",
       "      <td>1829</td>\n",
       "      <td>1755</td>\n",
       "      <td>1959</td>\n",
       "      <td>1925</td>\n",
       "      <td>WN</td>\n",
       "      <td>3920</td>\n",
       "      <td>90</td>\n",
       "      <td>90</td>\n",
       "      <td>77</td>\n",
       "      <td>34</td>\n",
       "      <td>34</td>\n",
       "      <td>IND</td>\n",
       "      <td>BWI</td>\n",
       "      <td>515</td>\n",
       "      <td>2008-01-03</td>\n",
       "    </tr>\n",
       "    <tr>\n",
       "      <th>4</th>\n",
       "      <td>4</td>\n",
       "      <td>1940</td>\n",
       "      <td>1915</td>\n",
       "      <td>2121</td>\n",
       "      <td>2110</td>\n",
       "      <td>WN</td>\n",
       "      <td>378</td>\n",
       "      <td>101</td>\n",
       "      <td>115</td>\n",
       "      <td>87</td>\n",
       "      <td>11</td>\n",
       "      <td>25</td>\n",
       "      <td>IND</td>\n",
       "      <td>JAX</td>\n",
       "      <td>688</td>\n",
       "      <td>2008-01-03</td>\n",
       "    </tr>\n",
       "  </tbody>\n",
       "</table>\n",
       "</div>"
      ],
      "text/plain": [
       "   DayOfWeek  DepTime  CRSDepTime  ArrTime  CRSArrTime UniqueCarrier  \\\n",
       "0          4     2003        1955     2211        2225            WN   \n",
       "1          4      754         735     1002        1000            WN   \n",
       "2          4      628         620      804         750            WN   \n",
       "3          4     1829        1755     1959        1925            WN   \n",
       "4          4     1940        1915     2121        2110            WN   \n",
       "\n",
       "   FlightNum  ActualElapsedTime  CRSElapsedTime  AirTime  ArrDelay  DepDelay  \\\n",
       "0        335                128             150      116       -14         8   \n",
       "1       3231                128             145      113         2        19   \n",
       "2        448                 96              90       76        14         8   \n",
       "3       3920                 90              90       77        34        34   \n",
       "4        378                101             115       87        11        25   \n",
       "\n",
       "  Origin Dest  Distance       Date  \n",
       "0    IAD  TPA       810 2008-01-03  \n",
       "1    IAD  TPA       810 2008-01-03  \n",
       "2    IND  BWI       515 2008-01-03  \n",
       "3    IND  BWI       515 2008-01-03  \n",
       "4    IND  JAX       688 2008-01-03  "
      ]
     },
     "execution_count": 7,
     "metadata": {},
     "output_type": "execute_result"
    }
   ],
   "source": [
    "data.head()"
   ]
  },
  {
   "cell_type": "markdown",
   "id": "3b1e5b34",
   "metadata": {},
   "source": [
    "### DataExploration\n",
    "Antes de iniciar con los modelos de regresion, se genera un heatmap para observar la correlacion entre la variable dependiente 'ArrDelay' y las variables independientes."
   ]
  },
  {
   "cell_type": "code",
   "execution_count": 8,
   "id": "063b317d",
   "metadata": {
    "scrolled": false
   },
   "outputs": [
    {
     "data": {
      "image/png": "[encoded data removed]",
      "text/plain": [
       "<Figure size 1440x1440 with 2 Axes>"
      ]
     },
     "metadata": {
      "needs_background": "light"
     },
     "output_type": "display_data"
    }
   ],
   "source": [
    "f, ax = plt.subplots(figsize=(20, 20))\n",
    "#mask for removing the upper triangle\n",
    "mask = np.triu(np.ones_like(data.corr(), dtype=bool))\n",
    "\n",
    "plt.rcParams['font.size'] = '14'\n",
    "sns.heatmap(data.corr(), annot=True, mask=mask, cmap=\"YlGnBu\",vmax=.3, center=0,\n",
    "            square=True, linewidths=.5, cbar_kws={\"shrink\": .5})\n",
    "plt.show()"
   ]
  },
  {
   "cell_type": "markdown",
   "id": "69f03d96",
   "metadata": {},
   "source": [
    "## Nivel 1\n",
    "\n",
    "### - Ejercicio 1\n",
    "Crea al menos tres modelos de clasificación distintos para intentar predecir lo mejor posible el retraso de los vuelos (ArrDelay) de DelayedFlights.csv. Considera si el vuelo ha llegado tarde o no (ArrDelay > 0).\n",
    "<br>\n",
    "\n",
    "* Variable dependiente: ***Arrival delay***\n"
   ]
  },
  {
   "cell_type": "markdown",
   "id": "d92a8d0c",
   "metadata": {},
   "source": [
    "Al tener casi dos millones de datos, se hace un muestreo aleatorio simple para poder optimizar los tiempos de calculo del notebook.\n",
    "<br>\n",
    "\n",
    "El sampling por calculo nos dice que una muestra valida puede ser de 400 datos, pero para abarcar un expectro mayor de datos, se ha decidido usar una muestra de mil datos"
   ]
  },
  {
   "cell_type": "code",
   "execution_count": 8,
   "id": "9efda06a",
   "metadata": {
    "scrolled": true
   },
   "outputs": [
    {
     "data": {
      "text/html": [
       "<div>\n",
       "<style scoped>\n",
       "    .dataframe tbody tr th:only-of-type {\n",
       "        vertical-align: middle;\n",
       "    }\n",
       "\n",
       "    .dataframe tbody tr th {\n",
       "        vertical-align: top;\n",
       "    }\n",
       "\n",
       "    .dataframe thead th {\n",
       "        text-align: right;\n",
       "    }\n",
       "</style>\n",
       "<table border=\"1\" class=\"dataframe\">\n",
       "  <thead>\n",
       "    <tr style=\"text-align: right;\">\n",
       "      <th></th>\n",
       "      <th>DayOfWeek</th>\n",
       "      <th>DepTime</th>\n",
       "      <th>CRSDepTime</th>\n",
       "      <th>ArrTime</th>\n",
       "      <th>CRSArrTime</th>\n",
       "      <th>UniqueCarrier</th>\n",
       "      <th>FlightNum</th>\n",
       "      <th>ActualElapsedTime</th>\n",
       "      <th>CRSElapsedTime</th>\n",
       "      <th>AirTime</th>\n",
       "      <th>ArrDelay</th>\n",
       "      <th>DepDelay</th>\n",
       "      <th>Origin</th>\n",
       "      <th>Dest</th>\n",
       "      <th>Distance</th>\n",
       "      <th>Date</th>\n",
       "    </tr>\n",
       "  </thead>\n",
       "  <tbody>\n",
       "    <tr>\n",
       "      <th>991918</th>\n",
       "      <td>6</td>\n",
       "      <td>1856</td>\n",
       "      <td>1610</td>\n",
       "      <td>1935</td>\n",
       "      <td>1701</td>\n",
       "      <td>EV</td>\n",
       "      <td>4919</td>\n",
       "      <td>39</td>\n",
       "      <td>51</td>\n",
       "      <td>29</td>\n",
       "      <td>154</td>\n",
       "      <td>166</td>\n",
       "      <td>CHA</td>\n",
       "      <td>ATL</td>\n",
       "      <td>106</td>\n",
       "      <td>2008-06-14</td>\n",
       "    </tr>\n",
       "    <tr>\n",
       "      <th>276595</th>\n",
       "      <td>5</td>\n",
       "      <td>1832</td>\n",
       "      <td>1815</td>\n",
       "      <td>1937</td>\n",
       "      <td>1920</td>\n",
       "      <td>WN</td>\n",
       "      <td>165</td>\n",
       "      <td>65</td>\n",
       "      <td>65</td>\n",
       "      <td>45</td>\n",
       "      <td>17</td>\n",
       "      <td>17</td>\n",
       "      <td>LAX</td>\n",
       "      <td>LAS</td>\n",
       "      <td>236</td>\n",
       "      <td>2008-02-01</td>\n",
       "    </tr>\n",
       "    <tr>\n",
       "      <th>1348643</th>\n",
       "      <td>5</td>\n",
       "      <td>1316</td>\n",
       "      <td>1234</td>\n",
       "      <td>1549</td>\n",
       "      <td>1519</td>\n",
       "      <td>EV</td>\n",
       "      <td>4491</td>\n",
       "      <td>153</td>\n",
       "      <td>165</td>\n",
       "      <td>135</td>\n",
       "      <td>30</td>\n",
       "      <td>42</td>\n",
       "      <td>MHT</td>\n",
       "      <td>ATL</td>\n",
       "      <td>952</td>\n",
       "      <td>2008-08-01</td>\n",
       "    </tr>\n",
       "    <tr>\n",
       "      <th>1676148</th>\n",
       "      <td>5</td>\n",
       "      <td>2322</td>\n",
       "      <td>2125</td>\n",
       "      <td>32</td>\n",
       "      <td>2254</td>\n",
       "      <td>DL</td>\n",
       "      <td>981</td>\n",
       "      <td>70</td>\n",
       "      <td>89</td>\n",
       "      <td>55</td>\n",
       "      <td>98</td>\n",
       "      <td>117</td>\n",
       "      <td>ATL</td>\n",
       "      <td>MCO</td>\n",
       "      <td>403</td>\n",
       "      <td>2008-11-28</td>\n",
       "    </tr>\n",
       "    <tr>\n",
       "      <th>401100</th>\n",
       "      <td>2</td>\n",
       "      <td>1429</td>\n",
       "      <td>1405</td>\n",
       "      <td>1521</td>\n",
       "      <td>1505</td>\n",
       "      <td>WN</td>\n",
       "      <td>315</td>\n",
       "      <td>52</td>\n",
       "      <td>60</td>\n",
       "      <td>35</td>\n",
       "      <td>16</td>\n",
       "      <td>24</td>\n",
       "      <td>FLL</td>\n",
       "      <td>MCO</td>\n",
       "      <td>178</td>\n",
       "      <td>2008-03-25</td>\n",
       "    </tr>\n",
       "  </tbody>\n",
       "</table>\n",
       "</div>"
      ],
      "text/plain": [
       "         DayOfWeek  DepTime  CRSDepTime  ArrTime  CRSArrTime UniqueCarrier  \\\n",
       "991918           6     1856        1610     1935        1701            EV   \n",
       "276595           5     1832        1815     1937        1920            WN   \n",
       "1348643          5     1316        1234     1549        1519            EV   \n",
       "1676148          5     2322        2125       32        2254            DL   \n",
       "401100           2     1429        1405     1521        1505            WN   \n",
       "\n",
       "         FlightNum  ActualElapsedTime  CRSElapsedTime  AirTime  ArrDelay  \\\n",
       "991918        4919                 39              51       29       154   \n",
       "276595         165                 65              65       45        17   \n",
       "1348643       4491                153             165      135        30   \n",
       "1676148        981                 70              89       55        98   \n",
       "401100         315                 52              60       35        16   \n",
       "\n",
       "         DepDelay Origin Dest  Distance       Date  \n",
       "991918        166    CHA  ATL       106 2008-06-14  \n",
       "276595         17    LAX  LAS       236 2008-02-01  \n",
       "1348643        42    MHT  ATL       952 2008-08-01  \n",
       "1676148       117    ATL  MCO       403 2008-11-28  \n",
       "401100         24    FLL  MCO       178 2008-03-25  "
      ]
     },
     "execution_count": 8,
     "metadata": {},
     "output_type": "execute_result"
    }
   ],
   "source": [
    "#Simple Random Sampling\n",
    "data_sampling = data.sample(1000)\n",
    "data_sampling.head()"
   ]
  },
  {
   "cell_type": "markdown",
   "id": "6ddb628c",
   "metadata": {},
   "source": [
    "### Feature engineering: Normalization of categorical data\n",
    "Para trabajar los modelos de machine learning es necesario que pueda interpretar los datos de manera correcta, por lo que se van a normalizar las variables categoricas. En este dataset las variables categoricas de interes son 'UniqueCarrier', 'Dest' y 'Origin', pero debido a que la lista de observaciones diferentes es muy amplia podriamos terminar con un dataset de mas de 600 features, por lo que se va a utilizar *target encoder* para no aumentar el tamaño del dataset y faciliar su procesamiento.\n",
    "\n",
    "*https://medium.com/analytics-vidhya/target-encoding-vs-one-hot-encoding-with-simple-examples-276a7e7b3e64*\n"
   ]
  },
  {
   "cell_type": "code",
   "execution_count": 9,
   "id": "3d009359-54a4-46a2-8803-dd19d3d3790c",
   "metadata": {
    "scrolled": true
   },
   "outputs": [
    {
     "name": "stderr",
     "output_type": "stream",
     "text": [
      "C:\\Users\\Usuario\\anaconda3\\lib\\site-packages\\category_encoders\\utils.py:21: FutureWarning: is_categorical is deprecated and will be removed in a future version.  Use is_categorical_dtype instead\n",
      "  elif pd.api.types.is_categorical(cols):\n"
     ]
    },
    {
     "data": {
      "text/html": [
       "<div>\n",
       "<style scoped>\n",
       "    .dataframe tbody tr th:only-of-type {\n",
       "        vertical-align: middle;\n",
       "    }\n",
       "\n",
       "    .dataframe tbody tr th {\n",
       "        vertical-align: top;\n",
       "    }\n",
       "\n",
       "    .dataframe thead th {\n",
       "        text-align: right;\n",
       "    }\n",
       "</style>\n",
       "<table border=\"1\" class=\"dataframe\">\n",
       "  <thead>\n",
       "    <tr style=\"text-align: right;\">\n",
       "      <th></th>\n",
       "      <th>DayOfWeek</th>\n",
       "      <th>DepTime</th>\n",
       "      <th>CRSDepTime</th>\n",
       "      <th>ArrTime</th>\n",
       "      <th>CRSArrTime</th>\n",
       "      <th>UniqueCarrier</th>\n",
       "      <th>FlightNum</th>\n",
       "      <th>ActualElapsedTime</th>\n",
       "      <th>CRSElapsedTime</th>\n",
       "      <th>AirTime</th>\n",
       "      <th>ArrDelay</th>\n",
       "      <th>DepDelay</th>\n",
       "      <th>Origin</th>\n",
       "      <th>Dest</th>\n",
       "      <th>Distance</th>\n",
       "      <th>Date</th>\n",
       "    </tr>\n",
       "  </thead>\n",
       "  <tbody>\n",
       "    <tr>\n",
       "      <th>991918</th>\n",
       "      <td>6</td>\n",
       "      <td>1856</td>\n",
       "      <td>1610</td>\n",
       "      <td>1935</td>\n",
       "      <td>1701</td>\n",
       "      <td>33.230769</td>\n",
       "      <td>4919</td>\n",
       "      <td>39</td>\n",
       "      <td>51</td>\n",
       "      <td>29</td>\n",
       "      <td>154</td>\n",
       "      <td>166</td>\n",
       "      <td>137.593017</td>\n",
       "      <td>47.666667</td>\n",
       "      <td>106</td>\n",
       "      <td>2008-06-14</td>\n",
       "    </tr>\n",
       "    <tr>\n",
       "      <th>276595</th>\n",
       "      <td>5</td>\n",
       "      <td>1832</td>\n",
       "      <td>1815</td>\n",
       "      <td>1937</td>\n",
       "      <td>1920</td>\n",
       "      <td>30.083770</td>\n",
       "      <td>165</td>\n",
       "      <td>65</td>\n",
       "      <td>65</td>\n",
       "      <td>45</td>\n",
       "      <td>17</td>\n",
       "      <td>17</td>\n",
       "      <td>41.585366</td>\n",
       "      <td>25.258065</td>\n",
       "      <td>236</td>\n",
       "      <td>2008-02-01</td>\n",
       "    </tr>\n",
       "    <tr>\n",
       "      <th>1348643</th>\n",
       "      <td>5</td>\n",
       "      <td>1316</td>\n",
       "      <td>1234</td>\n",
       "      <td>1549</td>\n",
       "      <td>1519</td>\n",
       "      <td>33.230769</td>\n",
       "      <td>4491</td>\n",
       "      <td>153</td>\n",
       "      <td>165</td>\n",
       "      <td>135</td>\n",
       "      <td>30</td>\n",
       "      <td>42</td>\n",
       "      <td>26.523409</td>\n",
       "      <td>47.666667</td>\n",
       "      <td>952</td>\n",
       "      <td>2008-08-01</td>\n",
       "    </tr>\n",
       "    <tr>\n",
       "      <th>1676148</th>\n",
       "      <td>5</td>\n",
       "      <td>2322</td>\n",
       "      <td>2125</td>\n",
       "      <td>32</td>\n",
       "      <td>2254</td>\n",
       "      <td>36.406780</td>\n",
       "      <td>981</td>\n",
       "      <td>70</td>\n",
       "      <td>89</td>\n",
       "      <td>55</td>\n",
       "      <td>98</td>\n",
       "      <td>117</td>\n",
       "      <td>38.719298</td>\n",
       "      <td>44.000000</td>\n",
       "      <td>403</td>\n",
       "      <td>2008-11-28</td>\n",
       "    </tr>\n",
       "    <tr>\n",
       "      <th>401100</th>\n",
       "      <td>2</td>\n",
       "      <td>1429</td>\n",
       "      <td>1405</td>\n",
       "      <td>1521</td>\n",
       "      <td>1505</td>\n",
       "      <td>30.083770</td>\n",
       "      <td>315</td>\n",
       "      <td>52</td>\n",
       "      <td>60</td>\n",
       "      <td>35</td>\n",
       "      <td>16</td>\n",
       "      <td>24</td>\n",
       "      <td>11.648413</td>\n",
       "      <td>44.000000</td>\n",
       "      <td>178</td>\n",
       "      <td>2008-03-25</td>\n",
       "    </tr>\n",
       "  </tbody>\n",
       "</table>\n",
       "</div>"
      ],
      "text/plain": [
       "         DayOfWeek  DepTime  CRSDepTime  ArrTime  CRSArrTime  UniqueCarrier  \\\n",
       "991918           6     1856        1610     1935        1701      33.230769   \n",
       "276595           5     1832        1815     1937        1920      30.083770   \n",
       "1348643          5     1316        1234     1549        1519      33.230769   \n",
       "1676148          5     2322        2125       32        2254      36.406780   \n",
       "401100           2     1429        1405     1521        1505      30.083770   \n",
       "\n",
       "         FlightNum  ActualElapsedTime  CRSElapsedTime  AirTime  ArrDelay  \\\n",
       "991918        4919                 39              51       29       154   \n",
       "276595         165                 65              65       45        17   \n",
       "1348643       4491                153             165      135        30   \n",
       "1676148        981                 70              89       55        98   \n",
       "401100         315                 52              60       35        16   \n",
       "\n",
       "         DepDelay      Origin       Dest  Distance       Date  \n",
       "991918        166  137.593017  47.666667       106 2008-06-14  \n",
       "276595         17   41.585366  25.258065       236 2008-02-01  \n",
       "1348643        42   26.523409  47.666667       952 2008-08-01  \n",
       "1676148       117   38.719298  44.000000       403 2008-11-28  \n",
       "401100         24   11.648413  44.000000       178 2008-03-25  "
      ]
     },
     "execution_count": 9,
     "metadata": {},
     "output_type": "execute_result"
    }
   ],
   "source": [
    "encoder = TargetEncoder()\n",
    "data_sampling[['Origin','Dest','UniqueCarrier']]=encoder.fit_transform(data_sampling[['Origin','Dest','UniqueCarrier']],data_sampling['ArrDelay'])\n",
    "\n",
    "data_sampling.head()"
   ]
  },
  {
   "cell_type": "markdown",
   "id": "5245b9f2",
   "metadata": {},
   "source": [
    "### Creacion de nueva variable: ArrDelay > 0\n",
    "Modificamos la variable ArrDelay para cumplir con la instruccion de: si el vuelo ha llegado tarde o no (ArrDelay > 0)."
   ]
  },
  {
   "cell_type": "code",
   "execution_count": 10,
   "id": "3c0195ce",
   "metadata": {},
   "outputs": [
    {
     "name": "stdout",
     "output_type": "stream",
     "text": [
      "1    0.88\n",
      "0    0.12\n",
      "Name: ArrDelay, dtype: float64\n",
      "1    881\n",
      "0    119\n",
      "Name: ArrDelay, dtype: int64\n"
     ]
    }
   ],
   "source": [
    "data_sampling['ArrDelay'] = [1 if x > 1 else 0 for x in data_sampling['ArrDelay']]\n",
    "print(data_sampling['ArrDelay'].value_counts(normalize=True).round(2))\n",
    "print(data_sampling['ArrDelay'].value_counts())"
   ]
  },
  {
   "cell_type": "markdown",
   "id": "d2c1ecf2",
   "metadata": {},
   "source": [
    "### Feature selection\n",
    "Dividimos las variables en dependiente (target) e independientes (features)"
   ]
  },
  {
   "cell_type": "code",
   "execution_count": 11,
   "id": "8570e3e6",
   "metadata": {},
   "outputs": [],
   "source": [
    "#Split data in features and target variable\n",
    "#data/predictors   \n",
    "X = data_sampling.drop(['ArrDelay','Date'], axis=1)\n",
    "#target variable\n",
    "y = data_sampling.ArrDelay"
   ]
  },
  {
   "cell_type": "markdown",
   "id": "c29e2184",
   "metadata": {},
   "source": [
    "### Train test dataset\n",
    "Dividimos el dataset en training y test para probar los modelos, con una relacion de 80-20% y Se divide el dataset en los predictores (X) y la variable target (Y)"
   ]
  },
  {
   "cell_type": "code",
   "execution_count": 12,
   "id": "70370e2d",
   "metadata": {},
   "outputs": [],
   "source": [
    "#split test-train\n",
    "X_train, X_test, y_train, y_test = train_test_split(X, y, test_size=0.2)"
   ]
  },
  {
   "cell_type": "code",
   "execution_count": 13,
   "id": "6afa964c",
   "metadata": {},
   "outputs": [
    {
     "name": "stdout",
     "output_type": "stream",
     "text": [
      "(800, 14) \n",
      " (200, 14) \n",
      " (800,) \n",
      " (200,)\n"
     ]
    }
   ],
   "source": [
    "# shape of the train and test\n",
    "print(X_train.shape, '\\n', X_test.shape, '\\n', y_train.shape, '\\n', y_test.shape)"
   ]
  },
  {
   "cell_type": "markdown",
   "id": "c5dba119",
   "metadata": {},
   "source": [
    "### Nota inicial:\n",
    "\n",
    "**Se han iniciado los modelos sin pasar parametros para probar la version default que tienen, y asi observar como varian los resultados obtenidos al incluirle parametros como se solicita en el ejercicio 3**"
   ]
  },
  {
   "cell_type": "markdown",
   "id": "6140716d",
   "metadata": {},
   "source": [
    "### Primer modelo: Decision Tree\n",
    "Los arboles de decision son modelos con estructura de arbol similares a diagramas de flujo, donde un nodo interno representa una funcion (o atributo), la rama representa una regla de decision y cada nodo hoja representa un resultado. El nodo superior de un árbol de decisión se conoce como nodo raíz.\n",
    "\n",
    "* Pros:\n",
    ">- faciles de interpretar\n",
    ">- captura patrones no lineales\n",
    ">- requiere menos preprocesamiento de datos\n",
    ">- no tiene suposiciones sobre la distribucion de los datos\n",
    "\n",
    "* Contras:\n",
    ">- sensible a datos ruidosos\n",
    ">- estan sesgados con un conjunto de datos de desequilibrio\n",
    "\n"
   ]
  },
  {
   "cell_type": "code",
   "execution_count": 14,
   "id": "74b8ec83",
   "metadata": {
    "scrolled": true
   },
   "outputs": [],
   "source": [
    "# instantiate Decision Tree classifer \n",
    "dt_class = DecisionTreeClassifier()\n",
    "\n",
    "# Train Decision Tree Classifer\n",
    "dt_class = dt_class.fit(X_train,y_train)\n",
    "\n",
    "#Predict the response for test dataset\n",
    "y_pred_dt = dt_class.predict(X_test)\n"
   ]
  },
  {
   "cell_type": "markdown",
   "id": "bbd56271",
   "metadata": {},
   "source": [
    "### Segundo modelo: KNN k- nearest neighbors\n",
    "\n",
    "Es un algoritmo de clasificacion que no requiere entrenamiento para realizar predicciones y es un algoritmo de aprendizaje no paramétrico, lo que significa que no asume nada sobre los datos subyacentes.\n",
    "\n",
    "<br>\n",
    "\n",
    "*https://stackabuse.com/k-nearest-neighbors-algorithm-in-python-and-scikit-learn/*"
   ]
  },
  {
   "cell_type": "code",
   "execution_count": 15,
   "id": "4aabb15f",
   "metadata": {},
   "outputs": [],
   "source": [
    "#instantiate Kn Classifier\n",
    "kn_class = KNeighborsClassifier(n_neighbors=5)\n",
    "\n",
    "#Train Kn Classifier\n",
    "kn_class.fit(X_train, y_train)\n",
    "\n",
    "#Predict with test data\n",
    "y_pred_kn = kn_class.predict(X_test)\n"
   ]
  },
  {
   "cell_type": "markdown",
   "id": "069eea5e",
   "metadata": {},
   "source": [
    "### Tercer modelo: XGBoost\n",
    "Se decididio utilizar el XGBoost debido a que es uno de los algoritmos mas populares en ML, combina un set de weak learners y genera prediccion mejoradas. Entre las principales pros se encuentra que:\n",
    "- Es mas rapido que otros clasificadores\n",
    "- Entrena bien con dataset grandes\n",
    "- Tiene mejor performance que otros algoritmos ML\n",
    "\n",
    "<br>\n",
    "\n",
    "*https://www.datacamp.com/community/tutorials/xgboost-in-python*"
   ]
  },
  {
   "cell_type": "code",
   "execution_count": 16,
   "id": "b577272b",
   "metadata": {},
   "outputs": [],
   "source": [
    "#instantiate XGBoost classifier\n",
    "xg_class = xgb.XGBClassifier(eval_metric='mlogloss', use_label_encoder=False)\n",
    "\n",
    "#fit the classification\n",
    "xg_class.fit(X_train,y_train)\n",
    "\n",
    "#Predict on test\n",
    "y_preds_xgb = xg_class.predict(X_test)\n"
   ]
  },
  {
   "attachments": {
    "1_kwwUKYNpy9LUF--FHprWCw.png": {
     "image/png": "[encoded data removed]"
    }
   },
   "cell_type": "markdown",
   "id": "c674252e",
   "metadata": {},
   "source": [
    "### - Ejercicio 2\n",
    "Compara los modelos de clasificación utilizando la precisión (accuracy), una matriz de confianza y otras métricas más avanzadas.\n",
    "\n",
    "- Accuracy: \n",
    "Muestra cuantas predicciones son correctas.\n",
    "\n",
    "- Confusion matrix:\n",
    "No es una métrica para evaluar un modelo, pero proporciona información sobre las predicciones. Se utiliza para calcular la precisión y la recuperación. \n",
    "\n",
    ">Los términos clave de la matriz de confusión son los siguientes:\n",
    ">* Verdadero positivo (TP) : Predecir la clase positiva como positiva (ok)\n",
    ">* Falso positivo (FP) : Predecir la clase negativa como positiva (no está bien)\n",
    ">* Falso negativo (FN) : predicción de clase positiva como negativa (no está bien)\n",
    ">* Verdadero negativo (TN) : Predicción de clase negativa como negativa (ok)\n",
    "![1_kwwUKYNpy9LUF--FHprWCw.png](attachment:1_kwwUKYNpy9LUF--FHprWCw.png)\n",
    "\n",
    "- Precisión: \n",
    "Mide qué tan bueno es nuestro modelo cuando la predicción es positiva\n",
    "\n",
    "- Recall:\n",
    "Mide qué tan bueno es nuestro modelo para predecir correctamente las clases positivas\n",
    "\n",
    "- Puntuación F1:\n",
    "Promedio ponderado de precisión y recuperación\n",
    "\n",
    "- Sensitivity and Specificity:\n",
    "Sensibilidad es la tasa de verdaderos positivos (TPR), mide la proporción de clase positiva que se predice correctamente como positiva. Especificidad mide la proporción de clase negativa que se predice correctamente como negativa.\n",
    "\n",
    "- Curva ROC y AUC:\n",
    "La curva ROC resume el rendimiento del modelo en diferentes valores de umbral mediante la combinación de matrices de confusión en todos los valores de umbral. AUC agrega el rendimiento del modelo en todos los valores de umbral. "
   ]
  },
  {
   "cell_type": "code",
   "execution_count": 18,
   "id": "faf04839",
   "metadata": {
    "scrolled": false
   },
   "outputs": [
    {
     "data": {
      "image/png": "[encoded data removed]",
      "text/plain": [
       "<Figure size 720x360 with 2 Axes>"
      ]
     },
     "metadata": {
      "needs_background": "light"
     },
     "output_type": "display_data"
    },
    {
     "name": "stdout",
     "output_type": "stream",
     "text": [
      "                          Accuracy:   Precision:   Recall:   F1: \n",
      "Decision tree classifier        0.84         0.92       0.9  0.91\n"
     ]
    },
    {
     "data": {
      "image/png": "[encoded data removed]",
      "text/plain": [
       "<Figure size 720x360 with 2 Axes>"
      ]
     },
     "metadata": {
      "needs_background": "light"
     },
     "output_type": "display_data"
    },
    {
     "name": "stdout",
     "output_type": "stream",
     "text": [
      "                        Accuracy:   Precision:   Recall:   F1: \n",
      "K-neighbors classifier        0.87         0.89      0.98  0.93\n"
     ]
    },
    {
     "data": {
      "image/png": "[encoded data removed]",
      "text/plain": [
       "<Figure size 720x360 with 2 Axes>"
      ]
     },
     "metadata": {
      "needs_background": "light"
     },
     "output_type": "display_data"
    },
    {
     "name": "stdout",
     "output_type": "stream",
     "text": [
      "                    Accuracy:   Precision:   Recall:   F1: \n",
      "XGBoost Classifier        0.87         0.91      0.95  0.93\n"
     ]
    }
   ],
   "source": [
    "comparing_classification_models=pd.DataFrame()\n",
    "comparing_classification_models = comparing_classification_models.append(metrics_models(y_test, y_pred_dt, 'Decision tree classifier'))\n",
    "comparing_classification_models = comparing_classification_models.append(metrics_models(y_test, y_pred_kn, 'K-neighbors classifier'))\n",
    "comparing_classification_models = comparing_classification_models.append(metrics_models(y_test, y_preds_xgb, 'XGBoost Classifier'))\n"
   ]
  },
  {
   "cell_type": "code",
   "execution_count": 19,
   "id": "86a81a49",
   "metadata": {
    "scrolled": true
   },
   "outputs": [
    {
     "data": {
      "text/html": [
       "<div>\n",
       "<style scoped>\n",
       "    .dataframe tbody tr th:only-of-type {\n",
       "        vertical-align: middle;\n",
       "    }\n",
       "\n",
       "    .dataframe tbody tr th {\n",
       "        vertical-align: top;\n",
       "    }\n",
       "\n",
       "    .dataframe thead th {\n",
       "        text-align: right;\n",
       "    }\n",
       "</style>\n",
       "<table border=\"1\" class=\"dataframe\">\n",
       "  <thead>\n",
       "    <tr style=\"text-align: right;\">\n",
       "      <th></th>\n",
       "      <th>Accuracy:</th>\n",
       "      <th>Precision:</th>\n",
       "      <th>Recall:</th>\n",
       "      <th>F1:</th>\n",
       "    </tr>\n",
       "  </thead>\n",
       "  <tbody>\n",
       "    <tr>\n",
       "      <th>Decision tree classifier</th>\n",
       "      <td>0.84</td>\n",
       "      <td>0.92</td>\n",
       "      <td>0.90</td>\n",
       "      <td>0.91</td>\n",
       "    </tr>\n",
       "    <tr>\n",
       "      <th>K-neighbors classifier</th>\n",
       "      <td>0.87</td>\n",
       "      <td>0.89</td>\n",
       "      <td>0.98</td>\n",
       "      <td>0.93</td>\n",
       "    </tr>\n",
       "    <tr>\n",
       "      <th>XGBoost Classifier</th>\n",
       "      <td>0.87</td>\n",
       "      <td>0.91</td>\n",
       "      <td>0.95</td>\n",
       "      <td>0.93</td>\n",
       "    </tr>\n",
       "  </tbody>\n",
       "</table>\n",
       "</div>"
      ],
      "text/plain": [
       "                          Accuracy:   Precision:   Recall:   F1: \n",
       "Decision tree classifier        0.84         0.92      0.90  0.91\n",
       "K-neighbors classifier          0.87         0.89      0.98  0.93\n",
       "XGBoost Classifier              0.87         0.91      0.95  0.93"
      ]
     },
     "execution_count": 19,
     "metadata": {},
     "output_type": "execute_result"
    }
   ],
   "source": [
    "comparing_classification_models"
   ]
  },
  {
   "cell_type": "code",
   "execution_count": 20,
   "id": "f8c74316",
   "metadata": {},
   "outputs": [
    {
     "data": {
      "image/png": "[encoded data removed]",
      "text/plain": [
       "<Figure size 432x288 with 1 Axes>"
      ]
     },
     "metadata": {
      "needs_background": "light"
     },
     "output_type": "display_data"
    }
   ],
   "source": [
    "disp = plot_roc_curve(dt_class,X_test,y_test)\n",
    "plot_roc_curve(kn_class,X_test,y_test, ax=disp.ax_);\n",
    "plot_roc_curve(xg_class,X_test,y_test, ax=disp.ax_);"
   ]
  },
  {
   "cell_type": "markdown",
   "id": "e83c64de",
   "metadata": {},
   "source": [
    "### Comparacion de modelos:\n",
    "Se puede observar que el accuracy de los modelos XGBoost y KNN es el mismo (87%), mientras que el que tiene menor es Decission tree (84%). Se observa que el modelo con mayor precision es Decision tree classifier, aunque los modelos XGBoost y KNN tienen una precision alta tambien (91 y 89, respectivamente). Se observa que el que tiene mayor recall es el KNN(98%), mientras que XGBoost tiene 95% y Decision tree tiene 90%. Se observa que el F1 se mantiene similar en los tres modelos.\n",
    "<br>\n",
    "\n",
    "Por ultimo, analizando la curva ROC nos muestra el AUC reflejando el rendimiento del modelo en todos los valores del umbral, en el se observa que los valores de los modelos son distintos, donde el que tiene mejor rendimiento es XGBoost con 0.89, mientras el que tiene menor rendimiento es KNN con 0.54). Observando la curva ROC se observa que el modelo XGBoost tiene mejor rendimiento al clasificar.\n",
    "<br>\n",
    "\n",
    "*https://www.youtube.com/watch?v=OAl6eAyP-yo&ab_channel=DataSchool*"
   ]
  },
  {
   "cell_type": "markdown",
   "id": "af4264f5",
   "metadata": {},
   "source": [
    "### - Ejercicio 3\n",
    "Entrena utilizando los diferentes parámetros que admiten."
   ]
  },
  {
   "cell_type": "markdown",
   "id": "2e52a787",
   "metadata": {},
   "source": [
    "### Primer modelo: Decision Tree\n",
    "El modelo tiene varios parametros: \n",
    "   >class sklearn.tree.DecisionTreeClassifier(*, criterion='gini', splitter='best', max_depth=None, min_samples_split=2, min_samples_leaf=1, min_weight_fraction_leaf=0.0, max_features=None, random_state=None, max_leaf_nodes=None, min_impurity_decrease=0.0, class_weight=None, ccp_alpha=0.0)[source]\n",
    "   \n",
    "De los cuales modificaremos: \n",
    "   > **criterion:{“gini”, “entropy”}, default=”gini”**\n",
    "The function to measure the quality of a split. Supported criteria are “gini” for the Gini impurity and “entropy” for the information gain.\n",
    "\n",
    "   > **splitter:{“best”, “random”}, default=”best”**\n",
    "The strategy used to choose the split at each node. Supported strategies are “best” to choose the best split and “random” to choose the best random split.\n",
    "\n",
    "   > **max_depth:int, default=None**\n",
    "The maximum depth of the tree. If None, then nodes are expanded until all leaves are pure or until all leaves contain less than min_samples_split samples."
   ]
  },
  {
   "cell_type": "code",
   "execution_count": 21,
   "id": "79fda486",
   "metadata": {},
   "outputs": [],
   "source": [
    "# Create Decision Tree classifer object\n",
    "dt_class2 = DecisionTreeClassifier(criterion=\"entropy\", splitter='random', max_depth=3)\n",
    "\n",
    "# Train Decision Tree Classifer\n",
    "dt_class2 = dt_class2.fit(X_train,y_train)\n",
    "\n",
    "#Predict the response for test dataset\n",
    "y_pred2 = dt_class2.predict(X_test)\n"
   ]
  },
  {
   "cell_type": "markdown",
   "id": "f23d43e0",
   "metadata": {},
   "source": [
    "### Segundo modelo: KNN k- nearest neighbors\n",
    "Los parametros que utiliza el modelo \n",
    ">**n_neighbors:int, default=5**\n",
    "Number of neighbors to use by default for kneighbors queries.\n",
    "\n",
    ">**weights:{‘uniform’, ‘distance’} or callable, default=’uniform’**. \n",
    "    ><br>Weight function used in prediction. Possible values:\n",
    "    > - ‘uniform’ : uniform weights. All points in each neighborhood are weighted equally.\n",
    "    >- ‘distance’ : weight points by the inverse of their distance. in this case, closer neighbors of a query point will have a greater influence than neighbors which are further away.\n",
    "    >- [callable] : a user-defined function which accepts an array of distances, and returns an array of the same shape containing the weights.\n",
    "\n",
    ">**algorithm:{‘auto’, ‘ball_tree’, ‘kd_tree’, ‘brute’}, default=’auto’**\n",
    "Algorithm used to compute the nearest neighbors:\n",
    "    >- ‘ball_tree’ will use BallTree: fast generalized N-point problems\n",
    "    >- ‘kd_tree’ will use KDTree:fast generalized N-point problems\n",
    "    >- ‘brute’ will use a brute-force search.\n",
    "    >- ‘auto’ will attempt to decide the most appropriate algorithm based on the values passed to fit method.\n",
    "\n",
    "Note: fitting on sparse input will override the setting of this parameter, using brute force."
   ]
  },
  {
   "cell_type": "code",
   "execution_count": 22,
   "id": "bbfa8e4e",
   "metadata": {},
   "outputs": [],
   "source": [
    "#instantiate Kn Classifier\n",
    "kn_class2 = KNeighborsClassifier(n_neighbors=1, weights='distance', algorithm='ball_tree')\n",
    "\n",
    "#Train Kn Classifier\n",
    "kn_class2= kn_class2.fit(X_train, y_train)\n",
    "\n",
    "#Predict with test data\n",
    "y_pred_kn2 = kn_class2.predict(X_test)"
   ]
  },
  {
   "cell_type": "markdown",
   "id": "d6da4bb5",
   "metadata": {},
   "source": [
    "### Tercer modelo: XGBoost\n",
    "parametros del modelo:\n",
    ">class xgboost.XGBRegressor(*, objective='reg:squarederror', **kwargs)\n",
    "\n",
    "De los cuales, modificaremos:\n",
    "   >**n_estimators** (int) – Number of gradient boosted trees. Equivalent to number of boosting rounds.\n",
    "\n",
    "   >**max_depth** (Optional[int]) – Maximum tree depth for base learners.\n",
    "\n",
    "   >**learning_rate** (Optional[float]) – Boosting learning rate (xgb’s “eta”)\n",
    "\n",
    "   >**objective** (Union[str, Callable[[numpy.ndarray, numpy.ndarray], Tuple[numpy.ndarray, numpy.ndarray]], NoneType]) – Specify the learning task and the corresponding learning objective or a custom objective function to be used (see note below).\n",
    "   >**colsample_bytree** (Optional[float]) – Subsample ratio of columns when constructing each tree.\n",
    "   >**alpha** (Optional[float]) – L1 regularization term on weights (xgb’s alpha).\n",
    "   >**eval_metric** (Optional[Union[str, List[str], Callable[[numpy.ndarray, xgboost.core.DMatrix], Tuple[str, float]]]]) –\n",
    "   \n",
    "y por ultimo: \n",
    ">use_label_encoder=False\n",
    "\n",
    "debido a que desde el primer modelo era necesario especifical para evitar los *warnings* del IDE."
   ]
  },
  {
   "cell_type": "code",
   "execution_count": 23,
   "id": "8b4f2fad",
   "metadata": {},
   "outputs": [],
   "source": [
    "#instantiate XGBoost classifier\n",
    "xg_class_2 = xgb.XGBClassifier(objective ='binary:logistic', colsample_bytree = 0.3, learning_rate = 0.1,\n",
    "                max_depth = 5, alpha = 10, n_estimators = 10,eval_metric='mlogloss', use_label_encoder=False)\n",
    "\n",
    "#fit the classification\n",
    "xg_class_2=xg_class_2.fit(X_train,y_train)\n",
    "\n",
    "#make the prediction on test\n",
    "y_preds_xgb_2 = xg_class_2.predict(X_test)"
   ]
  },
  {
   "cell_type": "code",
   "execution_count": 41,
   "id": "49a17e4c",
   "metadata": {},
   "outputs": [
    {
     "data": {
      "image/png": "[encoded data removed]",
      "text/plain": [
       "<Figure size 720x360 with 2 Axes>"
      ]
     },
     "metadata": {
      "needs_background": "light"
     },
     "output_type": "display_data"
    },
    {
     "name": "stdout",
     "output_type": "stream",
     "text": [
      "                                       Accuracy:   Precision:   Recall:   F1: \n",
      "Decision tree classifier - Parameters        0.88         0.88       1.0  0.94\n"
     ]
    },
    {
     "data": {
      "image/png": "[encoded data removed]",
      "text/plain": [
       "<Figure size 720x360 with 2 Axes>"
      ]
     },
     "metadata": {
      "needs_background": "light"
     },
     "output_type": "display_data"
    },
    {
     "name": "stdout",
     "output_type": "stream",
     "text": [
      "                                     Accuracy:   Precision:   Recall:   F1: \n",
      "K-neighbors classifier - Parameters        0.76         0.88      0.84  0.86\n"
     ]
    },
    {
     "data": {
      "image/png": "[encoded data removed]",
      "text/plain": [
       "<Figure size 720x360 with 2 Axes>"
      ]
     },
     "metadata": {
      "needs_background": "light"
     },
     "output_type": "display_data"
    },
    {
     "name": "stdout",
     "output_type": "stream",
     "text": [
      "                                 Accuracy:   Precision:   Recall:   F1: \n",
      "XGBoost Classifier - Parameters        0.88         0.88       1.0  0.94\n"
     ]
    }
   ],
   "source": [
    "comparing_classification_models2 = pd.DataFrame()\n",
    "comparing_classification_models2 = comparing_classification_models2.append(metrics_models(y_test, y_pred2, 'Decision tree classifier - Parameters'))\n",
    "comparing_classification_models2 = comparing_classification_models2.append(metrics_models(y_test, y_pred_kn2, 'K-neighbors classifier - Parameters'))\n",
    "comparing_classification_models2 = comparing_classification_models2.append(metrics_models(y_test, y_preds_xgb_2, 'XGBoost Classifier - Parameters'))\n"
   ]
  },
  {
   "cell_type": "code",
   "execution_count": 44,
   "id": "6d476f89",
   "metadata": {},
   "outputs": [
    {
     "data": {
      "text/html": [
       "<div>\n",
       "<style scoped>\n",
       "    .dataframe tbody tr th:only-of-type {\n",
       "        vertical-align: middle;\n",
       "    }\n",
       "\n",
       "    .dataframe tbody tr th {\n",
       "        vertical-align: top;\n",
       "    }\n",
       "\n",
       "    .dataframe thead th {\n",
       "        text-align: right;\n",
       "    }\n",
       "</style>\n",
       "<table border=\"1\" class=\"dataframe\">\n",
       "  <thead>\n",
       "    <tr style=\"text-align: right;\">\n",
       "      <th></th>\n",
       "      <th>Accuracy:</th>\n",
       "      <th>Precision:</th>\n",
       "      <th>Recall:</th>\n",
       "      <th>F1:</th>\n",
       "    </tr>\n",
       "  </thead>\n",
       "  <tbody>\n",
       "    <tr>\n",
       "      <th>Decision tree classifier</th>\n",
       "      <td>0.84</td>\n",
       "      <td>0.92</td>\n",
       "      <td>0.90</td>\n",
       "      <td>0.91</td>\n",
       "    </tr>\n",
       "    <tr>\n",
       "      <th>K-neighbors classifier</th>\n",
       "      <td>0.87</td>\n",
       "      <td>0.89</td>\n",
       "      <td>0.98</td>\n",
       "      <td>0.93</td>\n",
       "    </tr>\n",
       "    <tr>\n",
       "      <th>XGBoost Classifier</th>\n",
       "      <td>0.87</td>\n",
       "      <td>0.91</td>\n",
       "      <td>0.95</td>\n",
       "      <td>0.93</td>\n",
       "    </tr>\n",
       "    <tr>\n",
       "      <th>Decision tree classifier - Parameters</th>\n",
       "      <td>0.88</td>\n",
       "      <td>0.88</td>\n",
       "      <td>1.00</td>\n",
       "      <td>0.94</td>\n",
       "    </tr>\n",
       "    <tr>\n",
       "      <th>K-neighbors classifier - Parameters</th>\n",
       "      <td>0.76</td>\n",
       "      <td>0.88</td>\n",
       "      <td>0.84</td>\n",
       "      <td>0.86</td>\n",
       "    </tr>\n",
       "    <tr>\n",
       "      <th>XGBoost Classifier - Parameters</th>\n",
       "      <td>0.88</td>\n",
       "      <td>0.88</td>\n",
       "      <td>1.00</td>\n",
       "      <td>0.94</td>\n",
       "    </tr>\n",
       "  </tbody>\n",
       "</table>\n",
       "</div>"
      ],
      "text/plain": [
       "                                       Accuracy:   Precision:   Recall:   F1: \n",
       "Decision tree classifier                     0.84         0.92      0.90  0.91\n",
       "K-neighbors classifier                       0.87         0.89      0.98  0.93\n",
       "XGBoost Classifier                           0.87         0.91      0.95  0.93\n",
       "Decision tree classifier - Parameters        0.88         0.88      1.00  0.94\n",
       "K-neighbors classifier - Parameters          0.76         0.88      0.84  0.86\n",
       "XGBoost Classifier - Parameters              0.88         0.88      1.00  0.94"
      ]
     },
     "execution_count": 44,
     "metadata": {},
     "output_type": "execute_result"
    }
   ],
   "source": [
    "compare_models = comparing_classification_models.append([comparing_classification_models2])\n",
    "compare_models"
   ]
  },
  {
   "cell_type": "markdown",
   "id": "4bfc05e4",
   "metadata": {},
   "source": [
    "Se puede observar que al modificar los parametros del analisis tiene en las metricas de los modelos. El decision tree classifier, aumenta su accuracy, recall y F1 al modificar parametros, pero disminuye su precision. El modelo KNN disminuye en todas las metricas al modificar los parametros, puede deverse a que el modelo predeterminado era mas adecuado para el conjunto de datos. Por ultimo, al modificar los parametros del modelo XGBoost aumenta el accuracy, recall y F1, pero disminye la precision."
   ]
  },
  {
   "cell_type": "markdown",
   "id": "427d6551",
   "metadata": {},
   "source": [
    "### - Ejercicio 4\n",
    "Compara su rendimiento utilizando la aproximación training/test o cross-validation.\n",
    "<br>\n",
    "\n",
    "como hemos utilizado los modelos con la aproximacion train/test, realizaremos la comparacion del rendimiento mediante cross-validation\n",
    ">La validación cruzada es una técnica para evaluar cómo se generaliza el análisis estadístico a un conjunto de datos independiente. Es una técnica para evaluar modelos de aprendizaje automático entrenando varios modelos en subconjuntos de los datos de entrada disponibles y evaluándolos en el subconjunto complementario de los datos. Al usar la validación cruzada, hay muchas posibilidades de que podamos detectar el sobreajuste con facilidad.\n",
    "<br>\n",
    "\n",
    "Para validar el modelo utilizamos el k-Fold Cross-validation, el cual divide aleatoriamente el dataset en 'k' grupos. Uno de los grupos es utilizado como test set y los demas como training del modelo. \n",
    " > *Cross-validation gives the model an opportunity to test on multiple splits so we can get a better idea on how the model will perform on unseen data.*\n",
    "\n",
    "Se va a utilizar un valor de 5 para la cross-validation, lo que realiza una separacion en 5 grupos y realiza 'fit' del modelo y lo evalua 5 veces. Despues, se calcula el promedio de las 5 evaluaciones.\n",
    "> *Generally, k-fold cross validation is the gold-standard for evaluating the performance of a machine learning algorithm on unseen data with k set to 3, 5, or 10*\n",
    "\n",
    "*https://towardsdatascience.com/building-a-k-nearest-neighbors-k-nn-model-with-scikit-learn-51209555453a*\n",
    "*https://scikit-learn.org/stable/modules/cross_validation.html*"
   ]
  },
  {
   "cell_type": "markdown",
   "id": "52580b3b",
   "metadata": {},
   "source": [
    "### Decision tree classifier"
   ]
  },
  {
   "cell_type": "code",
   "execution_count": 77,
   "id": "63a7bac9",
   "metadata": {
    "scrolled": true
   },
   "outputs": [
    {
     "name": "stdout",
     "output_type": "stream",
     "text": [
      "Decission tree Accuracy: 84.70% (2.64%)\n"
     ]
    }
   ],
   "source": [
    "#create a new KNN model\n",
    "dt_cv = DecisionTreeClassifier()\n",
    "\n",
    "#train model with cv of 5 \n",
    "dt_scores = cross_val_score(dt_cv, X, y, cv=5)\n",
    "\n",
    "#print cv score (accuracy) average \n",
    "print(\"Decission tree Accuracy: %.2f%% (%.2f%%)\" % (dt_scores.mean()*100, dt_scores.std()*100))"
   ]
  },
  {
   "cell_type": "markdown",
   "id": "012d4bec",
   "metadata": {},
   "source": [
    "### Cross/validation of KNN model:"
   ]
  },
  {
   "cell_type": "code",
   "execution_count": 78,
   "id": "c686dc2f",
   "metadata": {},
   "outputs": [
    {
     "name": "stdout",
     "output_type": "stream",
     "text": [
      "K nearest neighbors Accuracy: 84.60% (1.32%)\n"
     ]
    }
   ],
   "source": [
    "#create a new KNN model\n",
    "knn_cv = KNeighborsClassifier(n_neighbors=3)\n",
    "\n",
    "#train model with cv of 5 \n",
    "knn_scores = cross_val_score(knn_cv, X, y, cv=5)\n",
    "\n",
    "#print cv score (accuracy) average \n",
    "print(\"K nearest neighbors Accuracy: %.2f%% (%.2f%%)\" % (knn_scores.mean()*100, knn_scores.std()*100))"
   ]
  },
  {
   "cell_type": "markdown",
   "id": "442f25a9",
   "metadata": {},
   "source": [
    "### Cross-validation of XGBoost model:"
   ]
  },
  {
   "cell_type": "code",
   "execution_count": 79,
   "id": "9e7db9ec",
   "metadata": {},
   "outputs": [
    {
     "name": "stdout",
     "output_type": "stream",
     "text": [
      "XGBoost Accuracy: 89.80% (1.25%)\n"
     ]
    }
   ],
   "source": [
    "#create new xgboost model\n",
    "xgb_cv = xgb.XGBClassifier(eval_metric='mlogloss', use_label_encoder=False)\n",
    "\n",
    "#train model with cv of 5 \n",
    "xgb_scores = cross_val_score(xgb_cv, X, y, cv=5)\n",
    "\n",
    "#print cv score (accuracy) average \n",
    "print(\"XGBoost Accuracy: %.2f%% (%.2f%%)\" % (xgb_scores.mean()*100, xgb_scores.std()*100))"
   ]
  },
  {
   "cell_type": "markdown",
   "id": "2574de21",
   "metadata": {},
   "source": [
    "El promedio del 'accuracy' de la validacion una representacion mas adecuada de como se comportara el modelo con informacion que no ha visto antes. Se puede observar que el modelo XGBoost (89.8%) es el que tiene mejor accuracy promedio de la evaluacion, en comparacion con knn y decission tree."
   ]
  },
  {
   "cell_type": "markdown",
   "id": "002b11fa",
   "metadata": {},
   "source": [
    "## Nivel 2\n",
    "\n",
    "### - Ejercicio 5\n",
    "Realiza algún proceso de ingeniería de variables para mejorar su predicción\n",
    "<br>\n",
    "\n",
    "Los algoritmos de ML tienen un bajo rendimiento cuando tratan con dataset 'imbalanced', tendiendo a ignorar la clase minoritaria. Una manera de tratar este problema es 'oversample' la clase minoritaria generando datos sinteticos, utilizando por ejemplo SMOTE.\n",
    "<br>\n",
    "\n",
    "*https://machinelearningmastery.com/smote-oversampling-for-imbalanced-classification/*"
   ]
  },
  {
   "cell_type": "code",
   "execution_count": 82,
   "id": "b7945ab0",
   "metadata": {},
   "outputs": [
    {
     "name": "stdout",
     "output_type": "stream",
     "text": [
      "1    705\n",
      "0     95\n",
      "Name: ArrDelay, dtype: int64\n"
     ]
    }
   ],
   "source": [
    "# count of true or false ArrDelay \n",
    "print(y_train.value_counts())"
   ]
  },
  {
   "cell_type": "markdown",
   "id": "e2c2de83",
   "metadata": {},
   "source": [
    "Se puede observar que tenemos mas vuelos con retraso que sin retraso, por lo que es un imbalanced dataset"
   ]
  },
  {
   "cell_type": "code",
   "execution_count": 95,
   "id": "5425aa48",
   "metadata": {},
   "outputs": [
    {
     "name": "stdout",
     "output_type": "stream",
     "text": [
      "Counter({1: 881, 0: 119})\n",
      "Counter({1: 881, 0: 881})\n"
     ]
    },
    {
     "data": {
      "image/png": "[encoded data removed]",
      "text/plain": [
       "<Figure size 720x360 with 1 Axes>"
      ]
     },
     "metadata": {
      "needs_background": "light"
     },
     "output_type": "display_data"
    }
   ],
   "source": [
    "# Define variables predictoras\n",
    "X = data_sampling.drop(['ArrDelay','Date','DayOfWeek'], axis = 1).values\n",
    "\n",
    "# Define variable target\n",
    "y = data_sampling['ArrDelay'].values\n",
    "\n",
    "# summarize class distribution\n",
    "counter = Counter(y)\n",
    "print(counter)\n",
    "\n",
    "# transform the dataset\n",
    "oversample = SMOTE(sampling_strategy='minority')\n",
    "X, y = oversample.fit_resample(X, y)\n",
    "\n",
    "# summarize the new class distribution\n",
    "counter = Counter(y)\n",
    "print(counter)\n",
    "\n",
    "# scatter plot of examples by class label\n",
    "fig, ax = plt.subplots(figsize = (10,5))\n",
    "for label, _ in counter.items():\n",
    "    row_ix = where(y == label)[0]\n",
    "    plt.scatter(X[row_ix, 0], X[row_ix, 1], label=str(label))\n",
    "plt.legend()\n",
    "plt.show()"
   ]
  },
  {
   "cell_type": "markdown",
   "id": "d7ed8607",
   "metadata": {},
   "source": [
    "Ahora despues de aplicar el SMOTE, se aplicaran los modelos de clasificacion para observar la diferencia en el rendimiento."
   ]
  },
  {
   "cell_type": "code",
   "execution_count": 100,
   "id": "4df6a72e",
   "metadata": {},
   "outputs": [],
   "source": [
    "# instantiate Decision Tree classifer \n",
    "dt_class_smote = DecisionTreeClassifier()\n",
    "\n",
    "# Train Decision Tree Classifer\n",
    "dt_class_smote = dt_class_smote.fit(X_train,y_train)\n",
    "\n",
    "#Predict the response for test dataset\n",
    "y_pred_dt_smote = dt_class_smote.predict(X_test)"
   ]
  },
  {
   "cell_type": "code",
   "execution_count": 101,
   "id": "f4607469",
   "metadata": {},
   "outputs": [],
   "source": [
    "#instantiate Kn Classifier\n",
    "kn_class_smote = KNeighborsClassifier(n_neighbors=5)\n",
    "\n",
    "#Train Kn Classifier\n",
    "kn_class_smote.fit(X_train, y_train)\n",
    "\n",
    "#Predict with test data\n",
    "y_pred_kn_smote = kn_class_smote.predict(X_test)"
   ]
  },
  {
   "cell_type": "code",
   "execution_count": 102,
   "id": "fe748a78",
   "metadata": {},
   "outputs": [],
   "source": [
    "#instantiate XGBoost classifier\n",
    "xg_class_smote = xgb.XGBClassifier(eval_metric='mlogloss', use_label_encoder=False)\n",
    "\n",
    "#fit the classification\n",
    "xg_class_smote.fit(X_train,y_train)\n",
    "\n",
    "#Predict on test\n",
    "y_preds_xgb_smote = xg_class_smote.predict(X_test)"
   ]
  },
  {
   "cell_type": "code",
   "execution_count": 106,
   "id": "fa4cba4d",
   "metadata": {},
   "outputs": [
    {
     "data": {
      "image/png": "[encoded data removed]",
      "text/plain": [
       "<Figure size 720x360 with 2 Axes>"
      ]
     },
     "metadata": {
      "needs_background": "light"
     },
     "output_type": "display_data"
    },
    {
     "name": "stdout",
     "output_type": "stream",
     "text": [
      "                                  Accuracy:   Precision:   Recall:   F1: \n",
      "Decision tree classifier - SMOTE        0.86         0.92      0.91  0.92\n"
     ]
    },
    {
     "data": {
      "image/png": "[encoded data removed]",
      "text/plain": [
       "<Figure size 720x360 with 2 Axes>"
      ]
     },
     "metadata": {
      "needs_background": "light"
     },
     "output_type": "display_data"
    },
    {
     "name": "stdout",
     "output_type": "stream",
     "text": [
      "                                Accuracy:   Precision:   Recall:   F1: \n",
      "K-neighbors classifier - SMOTE        0.87         0.89      0.98  0.93\n"
     ]
    },
    {
     "data": {
      "image/png": "[encoded data removed]",
      "text/plain": [
       "<Figure size 720x360 with 2 Axes>"
      ]
     },
     "metadata": {
      "needs_background": "light"
     },
     "output_type": "display_data"
    },
    {
     "name": "stdout",
     "output_type": "stream",
     "text": [
      "                            Accuracy:   Precision:   Recall:   F1: \n",
      "XGBoost Classifier - SMOTE        0.87         0.91      0.95  0.93\n"
     ]
    }
   ],
   "source": [
    "comparing_classification_models_smote = pd.DataFrame()\n",
    "comparing_classification_models_smote = comparing_classification_models_smote.append(metrics_models(y_test, y_pred_dt_smote, 'Decision tree classifier - SMOTE'))\n",
    "comparing_classification_models_smote = comparing_classification_models_smote.append(metrics_models(y_test, y_pred_kn_smote, 'K-neighbors classifier - SMOTE'))\n",
    "comparing_classification_models_smote = comparing_classification_models_smote.append(metrics_models(y_test, y_preds_xgb_smote, 'XGBoost Classifier - SMOTE'))\n"
   ]
  },
  {
   "cell_type": "code",
   "execution_count": 107,
   "id": "5f6b9f74",
   "metadata": {},
   "outputs": [
    {
     "data": {
      "text/html": [
       "<div>\n",
       "<style scoped>\n",
       "    .dataframe tbody tr th:only-of-type {\n",
       "        vertical-align: middle;\n",
       "    }\n",
       "\n",
       "    .dataframe tbody tr th {\n",
       "        vertical-align: top;\n",
       "    }\n",
       "\n",
       "    .dataframe thead th {\n",
       "        text-align: right;\n",
       "    }\n",
       "</style>\n",
       "<table border=\"1\" class=\"dataframe\">\n",
       "  <thead>\n",
       "    <tr style=\"text-align: right;\">\n",
       "      <th></th>\n",
       "      <th>Accuracy:</th>\n",
       "      <th>Precision:</th>\n",
       "      <th>Recall:</th>\n",
       "      <th>F1:</th>\n",
       "    </tr>\n",
       "  </thead>\n",
       "  <tbody>\n",
       "    <tr>\n",
       "      <th>Decision tree classifier</th>\n",
       "      <td>0.84</td>\n",
       "      <td>0.92</td>\n",
       "      <td>0.90</td>\n",
       "      <td>0.91</td>\n",
       "    </tr>\n",
       "    <tr>\n",
       "      <th>K-neighbors classifier</th>\n",
       "      <td>0.87</td>\n",
       "      <td>0.89</td>\n",
       "      <td>0.98</td>\n",
       "      <td>0.93</td>\n",
       "    </tr>\n",
       "    <tr>\n",
       "      <th>XGBoost Classifier</th>\n",
       "      <td>0.87</td>\n",
       "      <td>0.91</td>\n",
       "      <td>0.95</td>\n",
       "      <td>0.93</td>\n",
       "    </tr>\n",
       "    <tr>\n",
       "      <th>Decision tree classifier - Parameters</th>\n",
       "      <td>0.88</td>\n",
       "      <td>0.88</td>\n",
       "      <td>1.00</td>\n",
       "      <td>0.94</td>\n",
       "    </tr>\n",
       "    <tr>\n",
       "      <th>K-neighbors classifier - Parameters</th>\n",
       "      <td>0.76</td>\n",
       "      <td>0.88</td>\n",
       "      <td>0.84</td>\n",
       "      <td>0.86</td>\n",
       "    </tr>\n",
       "    <tr>\n",
       "      <th>XGBoost Classifier - Parameters</th>\n",
       "      <td>0.88</td>\n",
       "      <td>0.88</td>\n",
       "      <td>1.00</td>\n",
       "      <td>0.94</td>\n",
       "    </tr>\n",
       "    <tr>\n",
       "      <th>Decision tree classifier - SMOTE</th>\n",
       "      <td>0.86</td>\n",
       "      <td>0.92</td>\n",
       "      <td>0.91</td>\n",
       "      <td>0.92</td>\n",
       "    </tr>\n",
       "    <tr>\n",
       "      <th>K-neighbors classifier - SMOTE</th>\n",
       "      <td>0.87</td>\n",
       "      <td>0.89</td>\n",
       "      <td>0.98</td>\n",
       "      <td>0.93</td>\n",
       "    </tr>\n",
       "    <tr>\n",
       "      <th>XGBoost Classifier - SMOTE</th>\n",
       "      <td>0.87</td>\n",
       "      <td>0.91</td>\n",
       "      <td>0.95</td>\n",
       "      <td>0.93</td>\n",
       "    </tr>\n",
       "  </tbody>\n",
       "</table>\n",
       "</div>"
      ],
      "text/plain": [
       "                                       Accuracy:   Precision:   Recall:   F1: \n",
       "Decision tree classifier                     0.84         0.92      0.90  0.91\n",
       "K-neighbors classifier                       0.87         0.89      0.98  0.93\n",
       "XGBoost Classifier                           0.87         0.91      0.95  0.93\n",
       "Decision tree classifier - Parameters        0.88         0.88      1.00  0.94\n",
       "K-neighbors classifier - Parameters          0.76         0.88      0.84  0.86\n",
       "XGBoost Classifier - Parameters              0.88         0.88      1.00  0.94\n",
       "Decision tree classifier - SMOTE             0.86         0.92      0.91  0.92\n",
       "K-neighbors classifier - SMOTE               0.87         0.89      0.98  0.93\n",
       "XGBoost Classifier - SMOTE                   0.87         0.91      0.95  0.93"
      ]
     },
     "execution_count": 107,
     "metadata": {},
     "output_type": "execute_result"
    }
   ],
   "source": [
    "compare_models2 = comparing_classification_models.append([comparing_classification_models2,comparing_classification_models_smote])\n",
    "compare_models2"
   ]
  },
  {
   "cell_type": "markdown",
   "id": "980dbc9e",
   "metadata": {},
   "source": [
    "Se puede observar que modificar el dataset generando un oversample del minority class, la variacion en las metricas no muestra un aumento significativo."
   ]
  },
  {
   "cell_type": "markdown",
   "id": "52ade9ec",
   "metadata": {},
   "source": [
    "## Nivel 3\n",
    "\n",
    "\n",
    "### - Ejercicio 6\n",
    "No utilices la variable DepDelay a la hora de hacer predicciones"
   ]
  },
  {
   "cell_type": "code",
   "execution_count": 115,
   "id": "f5f1c340",
   "metadata": {},
   "outputs": [],
   "source": [
    "# Define variables predictoras\n",
    "X1 = data_sampling.drop(['ArrDelay','Date','DayOfWeek','DepDelay'], axis = 1).values\n",
    "\n",
    "# Define variable target\n",
    "y1 = data_sampling['ArrDelay'].values\n",
    "\n",
    "#split test-train\n",
    "X1_train, X1_test, y1_train, y1_test = train_test_split(X1, y1, test_size=0.2)"
   ]
  },
  {
   "cell_type": "code",
   "execution_count": 116,
   "id": "5d1b0f39",
   "metadata": {},
   "outputs": [],
   "source": [
    "# instantiate Decision Tree classifer \n",
    "dt_class_nodd = DecisionTreeClassifier()\n",
    "\n",
    "# Train Decision Tree Classifer\n",
    "dt_class_nodd = dt_class_nodd.fit(X1_train,y1_train)\n",
    "\n",
    "#Predict the response for test dataset\n",
    "y_pred_dt_nodd = dt_class_nodd.predict(X1_test)"
   ]
  },
  {
   "cell_type": "code",
   "execution_count": 117,
   "id": "df570bb7",
   "metadata": {},
   "outputs": [],
   "source": [
    "#instantiate Kn Classifier\n",
    "kn_class_nodd = KNeighborsClassifier(n_neighbors=5)\n",
    "\n",
    "#Train Kn Classifier\n",
    "kn_class_nodd = kn_class_nodd.fit(X1_train, y1_train)\n",
    "\n",
    "#Predict with test data\n",
    "y_pred_kn_nodd = kn_class_nodd.predict(X1_test)"
   ]
  },
  {
   "cell_type": "code",
   "execution_count": 118,
   "id": "78708634",
   "metadata": {},
   "outputs": [],
   "source": [
    "#instantiate XGBoost classifier\n",
    "xg_class_nodd = xgb.XGBClassifier(eval_metric='mlogloss', use_label_encoder=False)\n",
    "\n",
    "#fit the classification\n",
    "xg_class_nodd = xg_class_nodd.fit(X1_train,y1_train)\n",
    "\n",
    "#Predict on test\n",
    "y_preds_xgb_nodd = xg_class_nodd.predict(X1_test)"
   ]
  },
  {
   "cell_type": "code",
   "execution_count": 119,
   "id": "63155d04",
   "metadata": {},
   "outputs": [
    {
     "data": {
      "image/png": "[encoded data removed]",
      "text/plain": [
       "<Figure size 720x360 with 2 Axes>"
      ]
     },
     "metadata": {
      "needs_background": "light"
     },
     "output_type": "display_data"
    },
    {
     "name": "stdout",
     "output_type": "stream",
     "text": [
      "                                        Accuracy:   Precision:   Recall:   \\\n",
      "Decision tree classifier - No DepDelay         0.8         0.89      0.89   \n",
      "\n",
      "                                        F1:   \n",
      "Decision tree classifier - No DepDelay  0.89  \n"
     ]
    },
    {
     "data": {
      "image/png": "[encoded data removed]",
      "text/plain": [
       "<Figure size 720x360 with 2 Axes>"
      ]
     },
     "metadata": {
      "needs_background": "light"
     },
     "output_type": "display_data"
    },
    {
     "name": "stdout",
     "output_type": "stream",
     "text": [
      "                                      Accuracy:   Precision:   Recall:   F1: \n",
      "K-neighbors classifier - No DepDelay        0.84         0.88      0.96  0.92\n"
     ]
    },
    {
     "data": {
      "image/png": "[encoded data removed]",
      "text/plain": [
       "<Figure size 720x360 with 2 Axes>"
      ]
     },
     "metadata": {
      "needs_background": "light"
     },
     "output_type": "display_data"
    },
    {
     "name": "stdout",
     "output_type": "stream",
     "text": [
      "                                  Accuracy:   Precision:   Recall:   F1: \n",
      "XGBoost Classifier - No DepDelay        0.86         0.88      0.98  0.93\n"
     ]
    }
   ],
   "source": [
    "comparing_classification_models_nodd = pd.DataFrame()\n",
    "comparing_classification_models_nodd = comparing_classification_models_nodd.append(metrics_models(y_test, y_pred_dt_nodd, 'Decision tree classifier - No DepDelay'))\n",
    "comparing_classification_models_nodd = comparing_classification_models_nodd.append(metrics_models(y_test, y_pred_kn_nodd, 'K-neighbors classifier - No DepDelay'))\n",
    "comparing_classification_models_nodd = comparing_classification_models_nodd.append(metrics_models(y_test, y_preds_xgb_nodd, 'XGBoost Classifier - No DepDelay'))"
   ]
  },
  {
   "cell_type": "code",
   "execution_count": 120,
   "id": "af607884",
   "metadata": {},
   "outputs": [
    {
     "data": {
      "text/html": [
       "<div>\n",
       "<style scoped>\n",
       "    .dataframe tbody tr th:only-of-type {\n",
       "        vertical-align: middle;\n",
       "    }\n",
       "\n",
       "    .dataframe tbody tr th {\n",
       "        vertical-align: top;\n",
       "    }\n",
       "\n",
       "    .dataframe thead th {\n",
       "        text-align: right;\n",
       "    }\n",
       "</style>\n",
       "<table border=\"1\" class=\"dataframe\">\n",
       "  <thead>\n",
       "    <tr style=\"text-align: right;\">\n",
       "      <th></th>\n",
       "      <th>Accuracy:</th>\n",
       "      <th>Precision:</th>\n",
       "      <th>Recall:</th>\n",
       "      <th>F1:</th>\n",
       "    </tr>\n",
       "  </thead>\n",
       "  <tbody>\n",
       "    <tr>\n",
       "      <th>Decision tree classifier</th>\n",
       "      <td>0.84</td>\n",
       "      <td>0.92</td>\n",
       "      <td>0.90</td>\n",
       "      <td>0.91</td>\n",
       "    </tr>\n",
       "    <tr>\n",
       "      <th>K-neighbors classifier</th>\n",
       "      <td>0.87</td>\n",
       "      <td>0.89</td>\n",
       "      <td>0.98</td>\n",
       "      <td>0.93</td>\n",
       "    </tr>\n",
       "    <tr>\n",
       "      <th>XGBoost Classifier</th>\n",
       "      <td>0.87</td>\n",
       "      <td>0.91</td>\n",
       "      <td>0.95</td>\n",
       "      <td>0.93</td>\n",
       "    </tr>\n",
       "    <tr>\n",
       "      <th>Decision tree classifier - Parameters</th>\n",
       "      <td>0.88</td>\n",
       "      <td>0.88</td>\n",
       "      <td>1.00</td>\n",
       "      <td>0.94</td>\n",
       "    </tr>\n",
       "    <tr>\n",
       "      <th>K-neighbors classifier - Parameters</th>\n",
       "      <td>0.76</td>\n",
       "      <td>0.88</td>\n",
       "      <td>0.84</td>\n",
       "      <td>0.86</td>\n",
       "    </tr>\n",
       "    <tr>\n",
       "      <th>XGBoost Classifier - Parameters</th>\n",
       "      <td>0.88</td>\n",
       "      <td>0.88</td>\n",
       "      <td>1.00</td>\n",
       "      <td>0.94</td>\n",
       "    </tr>\n",
       "    <tr>\n",
       "      <th>Decision tree classifier - SMOTE</th>\n",
       "      <td>0.86</td>\n",
       "      <td>0.92</td>\n",
       "      <td>0.91</td>\n",
       "      <td>0.92</td>\n",
       "    </tr>\n",
       "    <tr>\n",
       "      <th>K-neighbors classifier - SMOTE</th>\n",
       "      <td>0.87</td>\n",
       "      <td>0.89</td>\n",
       "      <td>0.98</td>\n",
       "      <td>0.93</td>\n",
       "    </tr>\n",
       "    <tr>\n",
       "      <th>XGBoost Classifier - SMOTE</th>\n",
       "      <td>0.87</td>\n",
       "      <td>0.91</td>\n",
       "      <td>0.95</td>\n",
       "      <td>0.93</td>\n",
       "    </tr>\n",
       "    <tr>\n",
       "      <th>Decision tree classifier - No DepDelay</th>\n",
       "      <td>0.80</td>\n",
       "      <td>0.89</td>\n",
       "      <td>0.89</td>\n",
       "      <td>0.89</td>\n",
       "    </tr>\n",
       "    <tr>\n",
       "      <th>K-neighbors classifier - No DepDelay</th>\n",
       "      <td>0.84</td>\n",
       "      <td>0.88</td>\n",
       "      <td>0.96</td>\n",
       "      <td>0.92</td>\n",
       "    </tr>\n",
       "    <tr>\n",
       "      <th>XGBoost Classifier - No DepDelay</th>\n",
       "      <td>0.86</td>\n",
       "      <td>0.88</td>\n",
       "      <td>0.98</td>\n",
       "      <td>0.93</td>\n",
       "    </tr>\n",
       "  </tbody>\n",
       "</table>\n",
       "</div>"
      ],
      "text/plain": [
       "                                        Accuracy:   Precision:   Recall:   \\\n",
       "Decision tree classifier                      0.84         0.92      0.90   \n",
       "K-neighbors classifier                        0.87         0.89      0.98   \n",
       "XGBoost Classifier                            0.87         0.91      0.95   \n",
       "Decision tree classifier - Parameters         0.88         0.88      1.00   \n",
       "K-neighbors classifier - Parameters           0.76         0.88      0.84   \n",
       "XGBoost Classifier - Parameters               0.88         0.88      1.00   \n",
       "Decision tree classifier - SMOTE              0.86         0.92      0.91   \n",
       "K-neighbors classifier - SMOTE                0.87         0.89      0.98   \n",
       "XGBoost Classifier - SMOTE                    0.87         0.91      0.95   \n",
       "Decision tree classifier - No DepDelay        0.80         0.89      0.89   \n",
       "K-neighbors classifier - No DepDelay          0.84         0.88      0.96   \n",
       "XGBoost Classifier - No DepDelay              0.86         0.88      0.98   \n",
       "\n",
       "                                        F1:   \n",
       "Decision tree classifier                0.91  \n",
       "K-neighbors classifier                  0.93  \n",
       "XGBoost Classifier                      0.93  \n",
       "Decision tree classifier - Parameters   0.94  \n",
       "K-neighbors classifier - Parameters     0.86  \n",
       "XGBoost Classifier - Parameters         0.94  \n",
       "Decision tree classifier - SMOTE        0.92  \n",
       "K-neighbors classifier - SMOTE          0.93  \n",
       "XGBoost Classifier - SMOTE              0.93  \n",
       "Decision tree classifier - No DepDelay  0.89  \n",
       "K-neighbors classifier - No DepDelay    0.92  \n",
       "XGBoost Classifier - No DepDelay        0.93  "
      ]
     },
     "execution_count": 120,
     "metadata": {},
     "output_type": "execute_result"
    }
   ],
   "source": [
    "compare_models3 = comparing_classification_models.append([comparing_classification_models2,comparing_classification_models_smote,comparing_classification_models_nodd])\n",
    "compare_models3"
   ]
  },
  {
   "cell_type": "markdown",
   "id": "b371fbdc",
   "metadata": {},
   "source": [
    "Ahora al comparar los metodos con los distintos parametros y tratamientos de datos, observamos que al remover la variable DepDelay el performance de los modelos de clasificacion es menor y, por lo tanto, bajan sus metricas. Esto se debe a que la variable DepDelay es la que brinda mas informacion para poder predecir el ArrDelay."
   ]
  }
 ],
 "metadata": {
  "kernelspec": {
   "display_name": "Python 3",
   "language": "python",
   "name": "python3"
  },
  "language_info": {
   "codemirror_mode": {
    "name": "ipython",
    "version": 3
   },
   "file_extension": ".py",
   "mimetype": "text/x-python",
   "name": "python",
   "nbconvert_exporter": "python",
   "pygments_lexer": "ipython3",
   "version": "3.8.8"
  }
 },
 "nbformat": 4,
 "nbformat_minor": 5
}
